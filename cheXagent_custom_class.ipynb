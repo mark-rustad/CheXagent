{
 "cells": [
  {
   "cell_type": "markdown",
   "metadata": {},
   "source": [
    "###### Imports and definitions\n"
   ]
  },
  {
   "cell_type": "code",
   "execution_count": 2,
   "metadata": {},
   "outputs": [],
   "source": [
    "import csv\n",
    "import json\n",
    "import warnings\n",
    "from datetime import datetime\n",
    "from pathlib import Path\n",
    "\n",
    "import pandas as pd\n",
    "import torch\n",
    "from PIL import Image\n",
    "from rich import print\n",
    "from torch.utils.data import DataLoader, Dataset\n",
    "from tqdm.notebook import tqdm\n",
    "from transformers import AutoModelForCausalLM, AutoProcessor, GenerationConfig\n",
    "\n",
    "\n",
    "class CheXpertDataset(Dataset):\n",
    "    def __init__(\n",
    "        self, images, finding_labels, prompt_keys, prompts_dict, processor_pretrained_model=\"StanfordAIMI/CheXagent-8b\"\n",
    "    ):\n",
    "        self.images = images\n",
    "        self.finding_labels = finding_labels\n",
    "        self.prompt_keys = prompt_keys\n",
    "        self.prompts_dict = prompts_dict\n",
    "        self.processor = AutoProcessor.from_pretrained(processor_pretrained_model, trust_remote_code=True)\n",
    "\n",
    "    def __len__(self):\n",
    "        return len(self.finding_labels)\n",
    "\n",
    "    def __getitem__(self, index):\n",
    "        image_path = self.images[index]\n",
    "        image = Image.open(image_path).convert(\"RGB\")\n",
    "        prompt_key = self.prompt_keys[index]\n",
    "        prompt = self.prompts_dict[prompt_key]\n",
    "        finding_label = self.finding_labels[index]\n",
    "        inputs = self.processor(images=[image], text=f\" USER: <s>{prompt} ASSISTANT: <s>\", return_tensors=\"pt\")\n",
    "        inputs = {k: v.squeeze(0) for k, v in inputs.items()}  # Adjust as necessary\n",
    "\n",
    "        return inputs, image_path, prompt_key, finding_label\n",
    "\n",
    "\n",
    "def disp_df(dataframe):\n",
    "    display(dataframe.head())\n",
    "    print(f\"nRows: {dataframe.shape[0]:,}\\tnColumns: {dataframe.shape[1]}\")"
   ]
  },
  {
   "cell_type": "markdown",
   "metadata": {},
   "source": [
    "### Prepare input data for analysis\n"
   ]
  },
  {
   "cell_type": "markdown",
   "metadata": {},
   "source": [
    "###### NIH Chest X-ray dataset\n"
   ]
  },
  {
   "cell_type": "code",
   "execution_count": 3,
   "metadata": {},
   "outputs": [
    {
     "data": {
      "text/html": [
       "<div>\n",
       "<style scoped>\n",
       "    .dataframe tbody tr th:only-of-type {\n",
       "        vertical-align: middle;\n",
       "    }\n",
       "\n",
       "    .dataframe tbody tr th {\n",
       "        vertical-align: top;\n",
       "    }\n",
       "\n",
       "    .dataframe thead th {\n",
       "        text-align: right;\n",
       "    }\n",
       "</style>\n",
       "<table border=\"1\" class=\"dataframe\">\n",
       "  <thead>\n",
       "    <tr style=\"text-align: right;\">\n",
       "      <th></th>\n",
       "      <th>image_index</th>\n",
       "      <th>finding_labels</th>\n",
       "      <th>follow_up_number</th>\n",
       "      <th>patient_id</th>\n",
       "      <th>patient_age</th>\n",
       "      <th>patient_gender</th>\n",
       "      <th>view_position</th>\n",
       "      <th>original_image_width</th>\n",
       "      <th>original_image_height</th>\n",
       "      <th>original_image_pixel_spacing_x</th>\n",
       "      <th>original_image_pixel_spacing_y</th>\n",
       "    </tr>\n",
       "  </thead>\n",
       "  <tbody>\n",
       "    <tr>\n",
       "      <th>0</th>\n",
       "      <td>00000001_000.png</td>\n",
       "      <td>Cardiomegaly</td>\n",
       "      <td>0</td>\n",
       "      <td>1</td>\n",
       "      <td>58</td>\n",
       "      <td>M</td>\n",
       "      <td>PA</td>\n",
       "      <td>2682</td>\n",
       "      <td>2749</td>\n",
       "      <td>0.143</td>\n",
       "      <td>0.143</td>\n",
       "    </tr>\n",
       "    <tr>\n",
       "      <th>1</th>\n",
       "      <td>00000001_001.png</td>\n",
       "      <td>Cardiomegaly|Emphysema</td>\n",
       "      <td>1</td>\n",
       "      <td>1</td>\n",
       "      <td>58</td>\n",
       "      <td>M</td>\n",
       "      <td>PA</td>\n",
       "      <td>2894</td>\n",
       "      <td>2729</td>\n",
       "      <td>0.143</td>\n",
       "      <td>0.143</td>\n",
       "    </tr>\n",
       "    <tr>\n",
       "      <th>2</th>\n",
       "      <td>00000001_002.png</td>\n",
       "      <td>Cardiomegaly|Effusion</td>\n",
       "      <td>2</td>\n",
       "      <td>1</td>\n",
       "      <td>58</td>\n",
       "      <td>M</td>\n",
       "      <td>PA</td>\n",
       "      <td>2500</td>\n",
       "      <td>2048</td>\n",
       "      <td>0.168</td>\n",
       "      <td>0.168</td>\n",
       "    </tr>\n",
       "    <tr>\n",
       "      <th>3</th>\n",
       "      <td>00000002_000.png</td>\n",
       "      <td>No Finding</td>\n",
       "      <td>0</td>\n",
       "      <td>2</td>\n",
       "      <td>81</td>\n",
       "      <td>M</td>\n",
       "      <td>PA</td>\n",
       "      <td>2500</td>\n",
       "      <td>2048</td>\n",
       "      <td>0.171</td>\n",
       "      <td>0.171</td>\n",
       "    </tr>\n",
       "    <tr>\n",
       "      <th>4</th>\n",
       "      <td>00000003_000.png</td>\n",
       "      <td>Hernia</td>\n",
       "      <td>0</td>\n",
       "      <td>3</td>\n",
       "      <td>81</td>\n",
       "      <td>F</td>\n",
       "      <td>PA</td>\n",
       "      <td>2582</td>\n",
       "      <td>2991</td>\n",
       "      <td>0.143</td>\n",
       "      <td>0.143</td>\n",
       "    </tr>\n",
       "  </tbody>\n",
       "</table>\n",
       "</div>"
      ],
      "text/plain": [
       "        image_index          finding_labels  follow_up_number  patient_id  \\\n",
       "0  00000001_000.png            Cardiomegaly                 0           1   \n",
       "1  00000001_001.png  Cardiomegaly|Emphysema                 1           1   \n",
       "2  00000001_002.png   Cardiomegaly|Effusion                 2           1   \n",
       "3  00000002_000.png              No Finding                 0           2   \n",
       "4  00000003_000.png                  Hernia                 0           3   \n",
       "\n",
       "   patient_age patient_gender view_position  original_image_width  \\\n",
       "0           58              M            PA                  2682   \n",
       "1           58              M            PA                  2894   \n",
       "2           58              M            PA                  2500   \n",
       "3           81              M            PA                  2500   \n",
       "4           81              F            PA                  2582   \n",
       "\n",
       "   original_image_height  original_image_pixel_spacing_x  \\\n",
       "0                   2749                           0.143   \n",
       "1                   2729                           0.143   \n",
       "2                   2048                           0.168   \n",
       "3                   2048                           0.171   \n",
       "4                   2991                           0.143   \n",
       "\n",
       "   original_image_pixel_spacing_y  \n",
       "0                           0.143  \n",
       "1                           0.143  \n",
       "2                           0.168  \n",
       "3                           0.171  \n",
       "4                           0.143  "
      ]
     },
     "metadata": {},
     "output_type": "display_data"
    },
    {
     "data": {
      "text/html": [
       "<pre style=\"white-space:pre;overflow-x:auto;line-height:normal;font-family:Menlo,'DejaVu Sans Mono',consolas,'Courier New',monospace\">nRows: <span style=\"color: #008080; text-decoration-color: #008080; font-weight: bold\">112</span>,<span style=\"color: #008080; text-decoration-color: #008080; font-weight: bold\">120</span>  nColumns: <span style=\"color: #008080; text-decoration-color: #008080; font-weight: bold\">11</span>\n",
       "</pre>\n"
      ],
      "text/plain": [
       "nRows: \u001b[1;36m112\u001b[0m,\u001b[1;36m120\u001b[0m  nColumns: \u001b[1;36m11\u001b[0m\n"
      ]
     },
     "metadata": {},
     "output_type": "display_data"
    }
   ],
   "source": [
    "column_names = [\"image_index\", \"finding_labels\", \"follow_up_number\", \"patient_id\", \"patient_age\", \"patient_gender\", \"view_position\", \"original_image_width\", \"original_image_height\", \"original_image_pixel_spacing_x\", \"original_image_pixel_spacing_y\"]  # fmt: skip # nopep8\n",
    "\n",
    "data = pd.read_csv(\n",
    "    \"./data/NIH_Chest_X-ray_Dataset/Data_Entry_2017.csv\",\n",
    "    names=column_names,\n",
    "    header=0,\n",
    "    index_col=False,\n",
    ")\n",
    "\n",
    "disp_df(data)"
   ]
  },
  {
   "cell_type": "markdown",
   "metadata": {},
   "source": [
    "#### Single finding cases\n"
   ]
  },
  {
   "cell_type": "markdown",
   "metadata": {},
   "source": [
    "###### Prompt dictionary\n"
   ]
  },
  {
   "cell_type": "code",
   "execution_count": 22,
   "metadata": {},
   "outputs": [],
   "source": [
    "# # import prompts dictionary\n",
    "# with open(\"data/prompts.json\", \"r\") as json_file:\n",
    "#     prompts = json.load(json_file)"
   ]
  },
  {
   "cell_type": "markdown",
   "metadata": {},
   "source": [
    "###### NIH Chest X-ray dataset: single finding cases with prompt_key column\n"
   ]
  },
  {
   "cell_type": "code",
   "execution_count": 23,
   "metadata": {},
   "outputs": [],
   "source": [
    "# data_single_finding = data.loc[\n",
    "#     (data[\"finding_labels\"].str.count(\"\\\\|\") + 1) == 1, [\"image_index\", \"finding_labels\"]\n",
    "# ].copy()\n",
    "# data_single_finding_prompts = pd.DataFrame()\n",
    "# for prompt_key in prompts.keys():\n",
    "#     df_i = data_single_finding.copy()\n",
    "#     df_i[\"prompt_key\"] = prompt_key\n",
    "#     data_single_finding_prompts = pd.concat([data_single_finding_prompts, df_i])\n",
    "\n",
    "# disp_df(data_single_finding_prompts)"
   ]
  },
  {
   "cell_type": "markdown",
   "metadata": {},
   "source": [
    "###### Load analyzed image/prompt combinations\n"
   ]
  },
  {
   "cell_type": "code",
   "execution_count": 24,
   "metadata": {},
   "outputs": [],
   "source": [
    "# df_results_prev = pd.read_csv(\"output/NIH_Chest_Xray_n1_findings/disease_classification_QA.csv.gz\", dtype=str)\n",
    "\n",
    "# disp_df(df_results_prev)"
   ]
  },
  {
   "cell_type": "markdown",
   "metadata": {},
   "source": [
    "###### Input image/prompt combinations that have not been analyzed\n"
   ]
  },
  {
   "cell_type": "code",
   "execution_count": 25,
   "metadata": {},
   "outputs": [],
   "source": [
    "# df_not_analyzed = pd.merge(left=data_single_finding_prompts, right=df_results_prev, how=\"left\").pipe(\n",
    "#     lambda x: x.loc[x[\"response\"].isna(), [\"image_index\", \"finding_labels\", \"prompt_key\"]]\n",
    "# )\n",
    "\n",
    "# disp_df(df_not_analyzed)"
   ]
  },
  {
   "cell_type": "markdown",
   "metadata": {},
   "source": [
    "###### sort the input dataframe\n"
   ]
  },
  {
   "cell_type": "code",
   "execution_count": 26,
   "metadata": {},
   "outputs": [],
   "source": [
    "# # show least analyzed finding_label first\n",
    "# count_map = df_results_prev[\"finding_labels\"].value_counts().to_dict()\n",
    "# df_not_analyzed[\"label_count\"] = df_not_analyzed[\"finding_labels\"].map(count_map)\n",
    "\n",
    "# # create int dtype of prompt key column\n",
    "# df_not_analyzed[\"prompt_key_int\"] = df_not_analyzed[\"prompt_key\"].astype(int)\n",
    "\n",
    "# df_not_analyzed = df_not_analyzed.sort_values([\"label_count\", \"image_index\", \"prompt_key_int\"], ignore_index=True).drop(\n",
    "#     columns=[\"label_count\", \"prompt_key_int\"]\n",
    "# )\n",
    "# disp_df(df_not_analyzed)"
   ]
  },
  {
   "cell_type": "markdown",
   "metadata": {},
   "source": [
    "###### add image filepaths\n"
   ]
  },
  {
   "cell_type": "code",
   "execution_count": 27,
   "metadata": {},
   "outputs": [],
   "source": [
    "# # import filepaths\n",
    "# df_full_paths = (\n",
    "#     pd.read_csv(\"./output/single_finding_datalist.csv\", usecols=[\"image_index\", \"image_path\"])\n",
    "#     .set_index(\"image_index\")[\"image_path\"]\n",
    "#     .to_dict()\n",
    "# )\n",
    "\n",
    "# df_not_analyzed[\"image_path\"] = df_not_analyzed[\"image_index\"].map(df_full_paths)\n",
    "\n",
    "# disp_df(df_not_analyzed)"
   ]
  },
  {
   "cell_type": "markdown",
   "metadata": {},
   "source": [
    "#### Two findings cases\n"
   ]
  },
  {
   "cell_type": "markdown",
   "metadata": {},
   "source": [
    "###### Prompt dictionary\n"
   ]
  },
  {
   "cell_type": "code",
   "execution_count": 4,
   "metadata": {},
   "outputs": [],
   "source": [
    "# import prompts dictionary\n",
    "with open(\"data/prompts_two_findings.json\", \"r\") as json_file:\n",
    "    prompts = json.load(json_file)"
   ]
  },
  {
   "cell_type": "markdown",
   "metadata": {},
   "source": [
    "###### NIH Chest X-ray dataset: two findings cases with prompt_key column\n"
   ]
  },
  {
   "cell_type": "code",
   "execution_count": 5,
   "metadata": {},
   "outputs": [
    {
     "data": {
      "text/html": [
       "<div>\n",
       "<style scoped>\n",
       "    .dataframe tbody tr th:only-of-type {\n",
       "        vertical-align: middle;\n",
       "    }\n",
       "\n",
       "    .dataframe tbody tr th {\n",
       "        vertical-align: top;\n",
       "    }\n",
       "\n",
       "    .dataframe thead th {\n",
       "        text-align: right;\n",
       "    }\n",
       "</style>\n",
       "<table border=\"1\" class=\"dataframe\">\n",
       "  <thead>\n",
       "    <tr style=\"text-align: right;\">\n",
       "      <th></th>\n",
       "      <th>image_index</th>\n",
       "      <th>finding_labels</th>\n",
       "      <th>prompt_key</th>\n",
       "    </tr>\n",
       "  </thead>\n",
       "  <tbody>\n",
       "    <tr>\n",
       "      <th>1</th>\n",
       "      <td>00000001_001.png</td>\n",
       "      <td>Cardiomegaly|Emphysema</td>\n",
       "      <td>11</td>\n",
       "    </tr>\n",
       "    <tr>\n",
       "      <th>2</th>\n",
       "      <td>00000001_002.png</td>\n",
       "      <td>Cardiomegaly|Effusion</td>\n",
       "      <td>11</td>\n",
       "    </tr>\n",
       "    <tr>\n",
       "      <th>7</th>\n",
       "      <td>00000003_003.png</td>\n",
       "      <td>Hernia|Infiltration</td>\n",
       "      <td>11</td>\n",
       "    </tr>\n",
       "    <tr>\n",
       "      <th>12</th>\n",
       "      <td>00000004_000.png</td>\n",
       "      <td>Mass|Nodule</td>\n",
       "      <td>11</td>\n",
       "    </tr>\n",
       "    <tr>\n",
       "      <th>20</th>\n",
       "      <td>00000005_007.png</td>\n",
       "      <td>Effusion|Infiltration</td>\n",
       "      <td>11</td>\n",
       "    </tr>\n",
       "  </tbody>\n",
       "</table>\n",
       "</div>"
      ],
      "text/plain": [
       "         image_index          finding_labels prompt_key\n",
       "1   00000001_001.png  Cardiomegaly|Emphysema         11\n",
       "2   00000001_002.png   Cardiomegaly|Effusion         11\n",
       "7   00000003_003.png     Hernia|Infiltration         11\n",
       "12  00000004_000.png             Mass|Nodule         11\n",
       "20  00000005_007.png   Effusion|Infiltration         11"
      ]
     },
     "metadata": {},
     "output_type": "display_data"
    },
    {
     "data": {
      "text/html": [
       "<pre style=\"white-space:pre;overflow-x:auto;line-height:normal;font-family:Menlo,'DejaVu Sans Mono',consolas,'Courier New',monospace\">nRows: <span style=\"color: #008080; text-decoration-color: #008080; font-weight: bold\">143</span>,<span style=\"color: #008080; text-decoration-color: #008080; font-weight: bold\">060</span>  nColumns: <span style=\"color: #008080; text-decoration-color: #008080; font-weight: bold\">3</span>\n",
       "</pre>\n"
      ],
      "text/plain": [
       "nRows: \u001b[1;36m143\u001b[0m,\u001b[1;36m060\u001b[0m  nColumns: \u001b[1;36m3\u001b[0m\n"
      ]
     },
     "metadata": {},
     "output_type": "display_data"
    }
   ],
   "source": [
    "data_two_finding = data.loc[\n",
    "    (data[\"finding_labels\"].str.count(\"\\\\|\") + 1) == 2, [\"image_index\", \"finding_labels\"]\n",
    "].copy()\n",
    "data_two_finding_prompts = pd.DataFrame()\n",
    "for prompt_key in prompts.keys():\n",
    "    df_i = data_two_finding.copy()\n",
    "    df_i[\"prompt_key\"] = prompt_key\n",
    "    data_two_finding_prompts = pd.concat([data_two_finding_prompts, df_i])\n",
    "\n",
    "disp_df(data_two_finding_prompts)"
   ]
  },
  {
   "cell_type": "markdown",
   "metadata": {},
   "source": [
    "###### Load analyzed image/prompt combinations\n"
   ]
  },
  {
   "cell_type": "code",
   "execution_count": 6,
   "metadata": {},
   "outputs": [
    {
     "data": {
      "text/html": [
       "<div>\n",
       "<style scoped>\n",
       "    .dataframe tbody tr th:only-of-type {\n",
       "        vertical-align: middle;\n",
       "    }\n",
       "\n",
       "    .dataframe tbody tr th {\n",
       "        vertical-align: top;\n",
       "    }\n",
       "\n",
       "    .dataframe thead th {\n",
       "        text-align: right;\n",
       "    }\n",
       "</style>\n",
       "<table border=\"1\" class=\"dataframe\">\n",
       "  <thead>\n",
       "    <tr style=\"text-align: right;\">\n",
       "      <th></th>\n",
       "      <th>image_index</th>\n",
       "      <th>finding_labels</th>\n",
       "      <th>prompt_key</th>\n",
       "      <th>response</th>\n",
       "    </tr>\n",
       "  </thead>\n",
       "  <tbody>\n",
       "    <tr>\n",
       "      <th>0</th>\n",
       "      <td>00001182_001.png</td>\n",
       "      <td>Mass|Nodule</td>\n",
       "      <td>11</td>\n",
       "      <td>Atelectasis, Infiltration</td>\n",
       "    </tr>\n",
       "    <tr>\n",
       "      <th>1</th>\n",
       "      <td>00001182_001.png</td>\n",
       "      <td>Mass|Nodule</td>\n",
       "      <td>12</td>\n",
       "      <td>Atelectasis, Infiltration</td>\n",
       "    </tr>\n",
       "    <tr>\n",
       "      <th>2</th>\n",
       "      <td>00001182_001.png</td>\n",
       "      <td>Mass|Nodule</td>\n",
       "      <td>13</td>\n",
       "      <td>N) 'Pneumothorax'</td>\n",
       "    </tr>\n",
       "    <tr>\n",
       "      <th>3</th>\n",
       "      <td>00001182_001.png</td>\n",
       "      <td>Mass|Nodule</td>\n",
       "      <td>14</td>\n",
       "      <td>L) 'Pleural_Thickening', M) 'Pneumonia'</td>\n",
       "    </tr>\n",
       "    <tr>\n",
       "      <th>4</th>\n",
       "      <td>00001182_001.png</td>\n",
       "      <td>Mass|Nodule</td>\n",
       "      <td>15</td>\n",
       "      <td>I) 'Infiltration'</td>\n",
       "    </tr>\n",
       "  </tbody>\n",
       "</table>\n",
       "</div>"
      ],
      "text/plain": [
       "        image_index finding_labels prompt_key  \\\n",
       "0  00001182_001.png    Mass|Nodule         11   \n",
       "1  00001182_001.png    Mass|Nodule         12   \n",
       "2  00001182_001.png    Mass|Nodule         13   \n",
       "3  00001182_001.png    Mass|Nodule         14   \n",
       "4  00001182_001.png    Mass|Nodule         15   \n",
       "\n",
       "                                  response  \n",
       "0                Atelectasis, Infiltration  \n",
       "1                Atelectasis, Infiltration  \n",
       "2                        N) 'Pneumothorax'  \n",
       "3  L) 'Pleural_Thickening', M) 'Pneumonia'  \n",
       "4                        I) 'Infiltration'  "
      ]
     },
     "metadata": {},
     "output_type": "display_data"
    },
    {
     "data": {
      "text/html": [
       "<pre style=\"white-space:pre;overflow-x:auto;line-height:normal;font-family:Menlo,'DejaVu Sans Mono',consolas,'Courier New',monospace\">nRows: <span style=\"color: #008080; text-decoration-color: #008080; font-weight: bold\">5</span>,<span style=\"color: #008080; text-decoration-color: #008080; font-weight: bold\">373</span>    nColumns: <span style=\"color: #008080; text-decoration-color: #008080; font-weight: bold\">4</span>\n",
       "</pre>\n"
      ],
      "text/plain": [
       "nRows: \u001b[1;36m5\u001b[0m,\u001b[1;36m373\u001b[0m    nColumns: \u001b[1;36m4\u001b[0m\n"
      ]
     },
     "metadata": {},
     "output_type": "display_data"
    }
   ],
   "source": [
    "filelist = [x.as_posix() for x in Path(\"output/NIH_Chest_Xray_n2_findings\").glob(\"disease_classification_QA*.csv\")]\n",
    "\n",
    "if filelist == []:\n",
    "    df_results_prev = pd.DataFrame(columns=[\"image_index\", \"finding_labels\", \"prompt_key\", \"response\"])\n",
    "else:\n",
    "    df_results_prev = pd.DataFrame()\n",
    "    for f in filelist:\n",
    "        df_i = pd.read_csv(f, usecols=[\"image_index\", \"finding_labels\", \"prompt_key\", \"response\"], dtype=str)\n",
    "        df_results_prev = pd.concat([df_results_prev, df_i])\n",
    "\n",
    "    df_results_prev = df_results_prev.drop_duplicates(ignore_index=True)\n",
    "\n",
    "disp_df(df_results_prev)"
   ]
  },
  {
   "cell_type": "markdown",
   "metadata": {},
   "source": [
    "###### Input image/prompt combinations that have not been analyzed\n"
   ]
  },
  {
   "cell_type": "code",
   "execution_count": 7,
   "metadata": {},
   "outputs": [
    {
     "data": {
      "text/html": [
       "<div>\n",
       "<style scoped>\n",
       "    .dataframe tbody tr th:only-of-type {\n",
       "        vertical-align: middle;\n",
       "    }\n",
       "\n",
       "    .dataframe tbody tr th {\n",
       "        vertical-align: top;\n",
       "    }\n",
       "\n",
       "    .dataframe thead th {\n",
       "        text-align: right;\n",
       "    }\n",
       "</style>\n",
       "<table border=\"1\" class=\"dataframe\">\n",
       "  <thead>\n",
       "    <tr style=\"text-align: right;\">\n",
       "      <th></th>\n",
       "      <th>image_index</th>\n",
       "      <th>finding_labels</th>\n",
       "      <th>prompt_key</th>\n",
       "    </tr>\n",
       "  </thead>\n",
       "  <tbody>\n",
       "    <tr>\n",
       "      <th>443</th>\n",
       "      <td>00001006_021.png</td>\n",
       "      <td>Infiltration|Pneumothorax</td>\n",
       "      <td>11</td>\n",
       "    </tr>\n",
       "    <tr>\n",
       "      <th>444</th>\n",
       "      <td>00001029_006.png</td>\n",
       "      <td>Consolidation|Infiltration</td>\n",
       "      <td>11</td>\n",
       "    </tr>\n",
       "    <tr>\n",
       "      <th>445</th>\n",
       "      <td>00001031_001.png</td>\n",
       "      <td>Consolidation|Effusion</td>\n",
       "      <td>11</td>\n",
       "    </tr>\n",
       "    <tr>\n",
       "      <th>446</th>\n",
       "      <td>00001031_003.png</td>\n",
       "      <td>Effusion|Infiltration</td>\n",
       "      <td>11</td>\n",
       "    </tr>\n",
       "    <tr>\n",
       "      <th>447</th>\n",
       "      <td>00001039_005.png</td>\n",
       "      <td>Emphysema|Infiltration</td>\n",
       "      <td>11</td>\n",
       "    </tr>\n",
       "  </tbody>\n",
       "</table>\n",
       "</div>"
      ],
      "text/plain": [
       "          image_index              finding_labels prompt_key\n",
       "443  00001006_021.png   Infiltration|Pneumothorax         11\n",
       "444  00001029_006.png  Consolidation|Infiltration         11\n",
       "445  00001031_001.png      Consolidation|Effusion         11\n",
       "446  00001031_003.png       Effusion|Infiltration         11\n",
       "447  00001039_005.png      Emphysema|Infiltration         11"
      ]
     },
     "metadata": {},
     "output_type": "display_data"
    },
    {
     "data": {
      "text/html": [
       "<pre style=\"white-space:pre;overflow-x:auto;line-height:normal;font-family:Menlo,'DejaVu Sans Mono',consolas,'Courier New',monospace\">nRows: <span style=\"color: #008080; text-decoration-color: #008080; font-weight: bold\">137</span>,<span style=\"color: #008080; text-decoration-color: #008080; font-weight: bold\">687</span>  nColumns: <span style=\"color: #008080; text-decoration-color: #008080; font-weight: bold\">3</span>\n",
       "</pre>\n"
      ],
      "text/plain": [
       "nRows: \u001b[1;36m137\u001b[0m,\u001b[1;36m687\u001b[0m  nColumns: \u001b[1;36m3\u001b[0m\n"
      ]
     },
     "metadata": {},
     "output_type": "display_data"
    }
   ],
   "source": [
    "df_not_analyzed = pd.merge(left=data_two_finding_prompts, right=df_results_prev, how=\"left\").pipe(\n",
    "    lambda x: x.loc[x[\"response\"].isna(), [\"image_index\", \"finding_labels\", \"prompt_key\"]]\n",
    ")\n",
    "\n",
    "disp_df(df_not_analyzed)"
   ]
  },
  {
   "cell_type": "markdown",
   "metadata": {},
   "source": [
    "###### sort the input dataframe\n"
   ]
  },
  {
   "cell_type": "code",
   "execution_count": 8,
   "metadata": {},
   "outputs": [
    {
     "data": {
      "text/html": [
       "<div>\n",
       "<style scoped>\n",
       "    .dataframe tbody tr th:only-of-type {\n",
       "        vertical-align: middle;\n",
       "    }\n",
       "\n",
       "    .dataframe tbody tr th {\n",
       "        vertical-align: top;\n",
       "    }\n",
       "\n",
       "    .dataframe thead th {\n",
       "        text-align: right;\n",
       "    }\n",
       "</style>\n",
       "<table border=\"1\" class=\"dataframe\">\n",
       "  <thead>\n",
       "    <tr style=\"text-align: right;\">\n",
       "      <th></th>\n",
       "      <th>image_index</th>\n",
       "      <th>finding_labels</th>\n",
       "      <th>prompt_key</th>\n",
       "    </tr>\n",
       "  </thead>\n",
       "  <tbody>\n",
       "    <tr>\n",
       "      <th>0</th>\n",
       "      <td>00007109_020.png</td>\n",
       "      <td>Fibrosis|Pneumonia</td>\n",
       "      <td>11</td>\n",
       "    </tr>\n",
       "    <tr>\n",
       "      <th>1</th>\n",
       "      <td>00007109_020.png</td>\n",
       "      <td>Fibrosis|Pneumonia</td>\n",
       "      <td>12</td>\n",
       "    </tr>\n",
       "    <tr>\n",
       "      <th>2</th>\n",
       "      <td>00007109_020.png</td>\n",
       "      <td>Fibrosis|Pneumonia</td>\n",
       "      <td>13</td>\n",
       "    </tr>\n",
       "    <tr>\n",
       "      <th>3</th>\n",
       "      <td>00007109_020.png</td>\n",
       "      <td>Fibrosis|Pneumonia</td>\n",
       "      <td>14</td>\n",
       "    </tr>\n",
       "    <tr>\n",
       "      <th>4</th>\n",
       "      <td>00007109_020.png</td>\n",
       "      <td>Fibrosis|Pneumonia</td>\n",
       "      <td>15</td>\n",
       "    </tr>\n",
       "  </tbody>\n",
       "</table>\n",
       "</div>"
      ],
      "text/plain": [
       "        image_index      finding_labels prompt_key\n",
       "0  00007109_020.png  Fibrosis|Pneumonia         11\n",
       "1  00007109_020.png  Fibrosis|Pneumonia         12\n",
       "2  00007109_020.png  Fibrosis|Pneumonia         13\n",
       "3  00007109_020.png  Fibrosis|Pneumonia         14\n",
       "4  00007109_020.png  Fibrosis|Pneumonia         15"
      ]
     },
     "metadata": {},
     "output_type": "display_data"
    },
    {
     "data": {
      "text/html": [
       "<pre style=\"white-space:pre;overflow-x:auto;line-height:normal;font-family:Menlo,'DejaVu Sans Mono',consolas,'Courier New',monospace\">nRows: <span style=\"color: #008080; text-decoration-color: #008080; font-weight: bold\">137</span>,<span style=\"color: #008080; text-decoration-color: #008080; font-weight: bold\">687</span>  nColumns: <span style=\"color: #008080; text-decoration-color: #008080; font-weight: bold\">3</span>\n",
       "</pre>\n"
      ],
      "text/plain": [
       "nRows: \u001b[1;36m137\u001b[0m,\u001b[1;36m687\u001b[0m  nColumns: \u001b[1;36m3\u001b[0m\n"
      ]
     },
     "metadata": {},
     "output_type": "display_data"
    }
   ],
   "source": [
    "# show least analyzed finding_label first\n",
    "count_map = df_results_prev[\"finding_labels\"].value_counts().to_dict()\n",
    "df_not_analyzed[\"label_count\"] = df_not_analyzed[\"finding_labels\"].map(count_map)\n",
    "\n",
    "# create int dtype of prompt key column\n",
    "df_not_analyzed[\"prompt_key_int\"] = df_not_analyzed[\"prompt_key\"].astype(int)\n",
    "\n",
    "df_not_analyzed = df_not_analyzed.sort_values([\"label_count\", \"image_index\", \"prompt_key_int\"], ignore_index=True).drop(\n",
    "    columns=[\"label_count\", \"prompt_key_int\"]\n",
    ")\n",
    "disp_df(df_not_analyzed)"
   ]
  },
  {
   "cell_type": "markdown",
   "metadata": {},
   "source": [
    "###### add image filepaths\n"
   ]
  },
  {
   "cell_type": "code",
   "execution_count": 9,
   "metadata": {},
   "outputs": [
    {
     "data": {
      "text/html": [
       "<div>\n",
       "<style scoped>\n",
       "    .dataframe tbody tr th:only-of-type {\n",
       "        vertical-align: middle;\n",
       "    }\n",
       "\n",
       "    .dataframe tbody tr th {\n",
       "        vertical-align: top;\n",
       "    }\n",
       "\n",
       "    .dataframe thead th {\n",
       "        text-align: right;\n",
       "    }\n",
       "</style>\n",
       "<table border=\"1\" class=\"dataframe\">\n",
       "  <thead>\n",
       "    <tr style=\"text-align: right;\">\n",
       "      <th></th>\n",
       "      <th>image_index</th>\n",
       "      <th>finding_labels</th>\n",
       "      <th>prompt_key</th>\n",
       "      <th>image_path</th>\n",
       "    </tr>\n",
       "  </thead>\n",
       "  <tbody>\n",
       "    <tr>\n",
       "      <th>0</th>\n",
       "      <td>00007109_020.png</td>\n",
       "      <td>Fibrosis|Pneumonia</td>\n",
       "      <td>11</td>\n",
       "      <td>/data/irf/ai/rustadmd/CheXagent/data/NIH_Chest...</td>\n",
       "    </tr>\n",
       "    <tr>\n",
       "      <th>1</th>\n",
       "      <td>00007109_020.png</td>\n",
       "      <td>Fibrosis|Pneumonia</td>\n",
       "      <td>12</td>\n",
       "      <td>/data/irf/ai/rustadmd/CheXagent/data/NIH_Chest...</td>\n",
       "    </tr>\n",
       "    <tr>\n",
       "      <th>2</th>\n",
       "      <td>00007109_020.png</td>\n",
       "      <td>Fibrosis|Pneumonia</td>\n",
       "      <td>13</td>\n",
       "      <td>/data/irf/ai/rustadmd/CheXagent/data/NIH_Chest...</td>\n",
       "    </tr>\n",
       "    <tr>\n",
       "      <th>3</th>\n",
       "      <td>00007109_020.png</td>\n",
       "      <td>Fibrosis|Pneumonia</td>\n",
       "      <td>14</td>\n",
       "      <td>/data/irf/ai/rustadmd/CheXagent/data/NIH_Chest...</td>\n",
       "    </tr>\n",
       "    <tr>\n",
       "      <th>4</th>\n",
       "      <td>00007109_020.png</td>\n",
       "      <td>Fibrosis|Pneumonia</td>\n",
       "      <td>15</td>\n",
       "      <td>/data/irf/ai/rustadmd/CheXagent/data/NIH_Chest...</td>\n",
       "    </tr>\n",
       "  </tbody>\n",
       "</table>\n",
       "</div>"
      ],
      "text/plain": [
       "        image_index      finding_labels prompt_key  \\\n",
       "0  00007109_020.png  Fibrosis|Pneumonia         11   \n",
       "1  00007109_020.png  Fibrosis|Pneumonia         12   \n",
       "2  00007109_020.png  Fibrosis|Pneumonia         13   \n",
       "3  00007109_020.png  Fibrosis|Pneumonia         14   \n",
       "4  00007109_020.png  Fibrosis|Pneumonia         15   \n",
       "\n",
       "                                          image_path  \n",
       "0  /data/irf/ai/rustadmd/CheXagent/data/NIH_Chest...  \n",
       "1  /data/irf/ai/rustadmd/CheXagent/data/NIH_Chest...  \n",
       "2  /data/irf/ai/rustadmd/CheXagent/data/NIH_Chest...  \n",
       "3  /data/irf/ai/rustadmd/CheXagent/data/NIH_Chest...  \n",
       "4  /data/irf/ai/rustadmd/CheXagent/data/NIH_Chest...  "
      ]
     },
     "metadata": {},
     "output_type": "display_data"
    },
    {
     "data": {
      "text/html": [
       "<pre style=\"white-space:pre;overflow-x:auto;line-height:normal;font-family:Menlo,'DejaVu Sans Mono',consolas,'Courier New',monospace\">nRows: <span style=\"color: #008080; text-decoration-color: #008080; font-weight: bold\">137</span>,<span style=\"color: #008080; text-decoration-color: #008080; font-weight: bold\">687</span>  nColumns: <span style=\"color: #008080; text-decoration-color: #008080; font-weight: bold\">4</span>\n",
       "</pre>\n"
      ],
      "text/plain": [
       "nRows: \u001b[1;36m137\u001b[0m,\u001b[1;36m687\u001b[0m  nColumns: \u001b[1;36m4\u001b[0m\n"
      ]
     },
     "metadata": {},
     "output_type": "display_data"
    }
   ],
   "source": [
    "# import filepaths\n",
    "df_full_paths = pd.read_csv(\"data/NIH_Chest_X-ray_image_filepaths.csv\").set_index(\"image_index\")[\"image_path\"].to_dict()\n",
    "\n",
    "df_not_analyzed[\"image_path\"] = df_not_analyzed[\"image_index\"].map(df_full_paths)\n",
    "\n",
    "disp_df(df_not_analyzed)"
   ]
  },
  {
   "cell_type": "markdown",
   "metadata": {},
   "source": [
    "### Using CheXagent\n"
   ]
  },
  {
   "cell_type": "markdown",
   "metadata": {},
   "source": [
    "###### delete unused objects\n"
   ]
  },
  {
   "cell_type": "code",
   "execution_count": 10,
   "metadata": {},
   "outputs": [],
   "source": [
    "del (\n",
    "    column_names,\n",
    "    count_map,\n",
    "    data,\n",
    "    # data_single_finding,\n",
    "    # data_single_finding_prompts,\n",
    "    data_two_finding,\n",
    "    data_two_finding_prompts,\n",
    "    df_full_paths,\n",
    "    df_i,\n",
    "    df_results_prev,\n",
    "    # f,\n",
    "    filelist,\n",
    "    json_file,\n",
    "    prompt_key,\n",
    ")"
   ]
  },
  {
   "cell_type": "markdown",
   "metadata": {},
   "source": [
    "###### initialize `CheXpertDataset`\n"
   ]
  },
  {
   "cell_type": "code",
   "execution_count": 11,
   "metadata": {},
   "outputs": [
    {
     "data": {
      "application/vnd.jupyter.widget-view+json": {
       "model_id": "25789c697cc7404aaeab775f973531e0",
       "version_major": 2,
       "version_minor": 0
      },
      "text/plain": [
       "Loading checkpoint shards:   0%|          | 0/7 [00:00<?, ?it/s]"
      ]
     },
     "metadata": {},
     "output_type": "display_data"
    }
   ],
   "source": [
    "dataset = CheXpertDataset(\n",
    "    df_not_analyzed[\"image_path\"].values,\n",
    "    df_not_analyzed[\"finding_labels\"].values,\n",
    "    df_not_analyzed[\"prompt_key\"].values,\n",
    "    prompts,\n",
    ")\n",
    "# keys=[key for key in prompts.keys()]\n",
    "# dataset = CheXpertDataset(\n",
    "#     [\"data/DRR.jpg\"] * len(keys),\n",
    "#     [\"No Finding\"] * len(keys),\n",
    "#     [key for key in prompts.keys()],\n",
    "#     prompts,\n",
    "# )\n",
    "data_loader = DataLoader(dataset, batch_size=1, shuffle=False)  # Batch size set to 1 for simplicity\n",
    "processor = dataset.processor\n",
    "\n",
    "# Load the model and set it to evaluation mode\n",
    "device = \"cuda\"\n",
    "dtype = torch.float16\n",
    "\n",
    "model_name = \"StanfordAIMI/CheXagent-8b\"\n",
    "model = AutoModelForCausalLM.from_pretrained(model_name, torch_dtype=dtype, trust_remote_code=True).to(device)\n",
    "model.eval()\n",
    "\n",
    "# Load generation config if needed\n",
    "generation_config = GenerationConfig.from_pretrained(model_name)"
   ]
  },
  {
   "cell_type": "markdown",
   "metadata": {},
   "source": [
    "###### run the analysis\n"
   ]
  },
  {
   "cell_type": "code",
   "execution_count": 12,
   "metadata": {},
   "outputs": [
    {
     "data": {
      "application/vnd.jupyter.widget-view+json": {
       "model_id": "d8c04f04909347ce88f0a3b6e106e3d4",
       "version_major": 2,
       "version_minor": 0
      },
      "text/plain": [
       "Processing images:   0%|          | 0/137687 [00:00<?, ?it/s]"
      ]
     },
     "metadata": {},
     "output_type": "display_data"
    },
    {
     "ename": "KeyboardInterrupt",
     "evalue": "",
     "output_type": "error",
     "traceback": [
      "\u001b[0;31m---------------------------------------------------------------------------\u001b[0m",
      "\u001b[0;31mKeyboardInterrupt\u001b[0m                         Traceback (most recent call last)",
      "Cell \u001b[0;32mIn[12], line 19\u001b[0m\n\u001b[1;32m     16\u001b[0m image_index \u001b[38;5;241m=\u001b[39m Path(image_path)\u001b[38;5;241m.\u001b[39mname\n\u001b[1;32m     18\u001b[0m \u001b[38;5;66;03m# Generate text; adjust depending on your model's API\u001b[39;00m\n\u001b[0;32m---> 19\u001b[0m output \u001b[38;5;241m=\u001b[39m \u001b[43mmodel\u001b[49m\u001b[38;5;241;43m.\u001b[39;49m\u001b[43mgenerate\u001b[49m\u001b[43m(\u001b[49m\n\u001b[1;32m     20\u001b[0m \u001b[43m    \u001b[49m\u001b[38;5;241;43m*\u001b[39;49m\u001b[38;5;241;43m*\u001b[39;49m\u001b[43minputs\u001b[49m\u001b[43m,\u001b[49m\u001b[43m \u001b[49m\u001b[43mgeneration_config\u001b[49m\u001b[38;5;241;43m=\u001b[39;49m\u001b[43mgeneration_config\u001b[49m\u001b[43m,\u001b[49m\u001b[43m \u001b[49m\u001b[43mpad_token_id\u001b[49m\u001b[38;5;241;43m=\u001b[39;49m\u001b[43mprocessor\u001b[49m\u001b[38;5;241;43m.\u001b[39;49m\u001b[43mtokenizer\u001b[49m\u001b[38;5;241;43m.\u001b[39;49m\u001b[43meos_token_id\u001b[49m\n\u001b[1;32m     21\u001b[0m \u001b[43m\u001b[49m\u001b[43m)\u001b[49m[\u001b[38;5;241m0\u001b[39m]\n\u001b[1;32m     23\u001b[0m \u001b[38;5;66;03m# Decode and print the generated text\u001b[39;00m\n\u001b[1;32m     24\u001b[0m generated_text \u001b[38;5;241m=\u001b[39m processor\u001b[38;5;241m.\u001b[39mtokenizer\u001b[38;5;241m.\u001b[39mdecode(output, skip_special_tokens\u001b[38;5;241m=\u001b[39m\u001b[38;5;28;01mTrue\u001b[39;00m)\n",
      "File \u001b[0;32m/data/irf/ai/rustadmd/.conda/envs/total_seg_v1/lib/python3.11/site-packages/torch/utils/_contextlib.py:115\u001b[0m, in \u001b[0;36mcontext_decorator.<locals>.decorate_context\u001b[0;34m(*args, **kwargs)\u001b[0m\n\u001b[1;32m    112\u001b[0m \u001b[38;5;129m@functools\u001b[39m\u001b[38;5;241m.\u001b[39mwraps(func)\n\u001b[1;32m    113\u001b[0m \u001b[38;5;28;01mdef\u001b[39;00m \u001b[38;5;21mdecorate_context\u001b[39m(\u001b[38;5;241m*\u001b[39margs, \u001b[38;5;241m*\u001b[39m\u001b[38;5;241m*\u001b[39mkwargs):\n\u001b[1;32m    114\u001b[0m     \u001b[38;5;28;01mwith\u001b[39;00m ctx_factory():\n\u001b[0;32m--> 115\u001b[0m         \u001b[38;5;28;01mreturn\u001b[39;00m \u001b[43mfunc\u001b[49m\u001b[43m(\u001b[49m\u001b[38;5;241;43m*\u001b[39;49m\u001b[43margs\u001b[49m\u001b[43m,\u001b[49m\u001b[43m \u001b[49m\u001b[38;5;241;43m*\u001b[39;49m\u001b[38;5;241;43m*\u001b[39;49m\u001b[43mkwargs\u001b[49m\u001b[43m)\u001b[49m\n",
      "File \u001b[0;32m~/.cache/huggingface/modules/transformers_modules/StanfordAIMI/CheXagent-8b/4934e91451945c8218c267aae9c34929a7677829/modeling_chexagent.py:1258\u001b[0m, in \u001b[0;36mCheXagentForConditionalGeneration.generate\u001b[0;34m(self, pixel_values, input_ids, attention_mask, **generate_kwargs)\u001b[0m\n\u001b[1;32m   1255\u001b[0m image_embeds[image_mask] \u001b[38;5;241m=\u001b[39m tmp\n\u001b[1;32m   1257\u001b[0m \u001b[38;5;66;03m# step 2: forward the query tokens through the QFormer, using the image embeddings for cross-attention\u001b[39;00m\n\u001b[0;32m-> 1258\u001b[0m image_attention_mask \u001b[38;5;241m=\u001b[39m torch\u001b[38;5;241m.\u001b[39mzeros(\u001b[43mimage_embeds\u001b[49m\u001b[38;5;241;43m.\u001b[39;49m\u001b[43msize\u001b[49m\u001b[43m(\u001b[49m\u001b[43m)\u001b[49m[:\u001b[38;5;241m-\u001b[39m\u001b[38;5;241m1\u001b[39m], dtype\u001b[38;5;241m=\u001b[39mtorch\u001b[38;5;241m.\u001b[39mlong, device\u001b[38;5;241m=\u001b[39mimage_embeds\u001b[38;5;241m.\u001b[39mdevice)\n\u001b[1;32m   1259\u001b[0m image_attention_mask[image_mask] \u001b[38;5;241m=\u001b[39m \u001b[38;5;241m1\u001b[39m\n\u001b[1;32m   1260\u001b[0m image_embeds \u001b[38;5;241m=\u001b[39m rearrange(image_embeds, \u001b[38;5;124m\"\u001b[39m\u001b[38;5;124mb i n d -> b (i n) d\u001b[39m\u001b[38;5;124m\"\u001b[39m)\n",
      "\u001b[0;31mKeyboardInterrupt\u001b[0m: "
     ]
    }
   ],
   "source": [
    "now = datetime.now()\n",
    "datetime_str = now.strftime(\"%Y%m%d_%H%M%S\")\n",
    "csv_file_path = f\"output/NIH_Chest_Xray_n2_findings/disease_classification_QA_{datetime_str}.csv\"\n",
    "\n",
    "warnings.filterwarnings(\"ignore\", category=UserWarning)\n",
    "\n",
    "with open(csv_file_path, mode=\"w\", newline=\"\") as file:\n",
    "    writer = csv.writer(file)\n",
    "    writer.writerow([\"image_index\", \"finding_labels\", \"prompt_key\", \"response\"])\n",
    "\n",
    "    for batch in tqdm(data_loader, total=len(data_loader), desc=\"Processing images\"):\n",
    "        inputs = batch[0]\n",
    "        inputs = {k: v.to(\"cuda\") for k, v in inputs.items()}\n",
    "\n",
    "        image_path, prompt_key, finding_label = [x[0] for x in batch[1:]]\n",
    "        image_index = Path(image_path).name\n",
    "\n",
    "        # Generate text; adjust depending on your model's API\n",
    "        output = model.generate(\n",
    "            **inputs, generation_config=generation_config, pad_token_id=processor.tokenizer.eos_token_id\n",
    "        )[0]\n",
    "\n",
    "        # Decode and print the generated text\n",
    "        generated_text = processor.tokenizer.decode(output, skip_special_tokens=True)\n",
    "\n",
    "        row_data = [image_index, finding_label, prompt_key, generated_text]\n",
    "        writer.writerow(row_data)\n",
    "\n",
    "warnings.resetwarnings()"
   ]
  }
 ],
 "metadata": {
  "kernelspec": {
   "display_name": "total_seg_v1",
   "language": "python",
   "name": "python3"
  },
  "language_info": {
   "codemirror_mode": {
    "name": "ipython",
    "version": 3
   },
   "file_extension": ".py",
   "mimetype": "text/x-python",
   "name": "python",
   "nbconvert_exporter": "python",
   "pygments_lexer": "ipython3",
   "version": "3.11.8"
  }
 },
 "nbformat": 4,
 "nbformat_minor": 2
}
