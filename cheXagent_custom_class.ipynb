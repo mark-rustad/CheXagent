{
 "cells": [
  {
   "cell_type": "markdown",
   "metadata": {},
   "source": [
    "###### Imports and definitions\n"
   ]
  },
  {
   "cell_type": "code",
   "execution_count": 1,
   "metadata": {},
   "outputs": [],
   "source": [
    "import csv\n",
    "import json\n",
    "import warnings\n",
    "from datetime import datetime\n",
    "from pathlib import Path\n",
    "\n",
    "import pandas as pd\n",
    "import torch\n",
    "from PIL import Image\n",
    "from rich import print\n",
    "from torch.utils.data import DataLoader, Dataset\n",
    "from tqdm.notebook import tqdm\n",
    "from transformers import AutoModelForCausalLM, AutoProcessor, GenerationConfig\n",
    "\n",
    "\n",
    "class CheXpertDataset(Dataset):\n",
    "    def __init__(\n",
    "        self, images, finding_labels, prompt_keys, prompts_dict, processor_pretrained_model=\"StanfordAIMI/CheXagent-8b\"\n",
    "    ):\n",
    "        self.images = images\n",
    "        self.finding_labels = finding_labels\n",
    "        self.prompt_keys = prompt_keys\n",
    "        self.prompts_dict = prompts_dict\n",
    "        self.processor = AutoProcessor.from_pretrained(processor_pretrained_model, trust_remote_code=True)\n",
    "\n",
    "    def __len__(self):\n",
    "        return len(self.finding_labels)\n",
    "\n",
    "    def __getitem__(self, index):\n",
    "        image_path = self.images[index]\n",
    "        image = Image.open(image_path).convert(\"RGB\")\n",
    "        prompt_key = self.prompt_keys[index]\n",
    "        prompt = self.prompts_dict[prompt_key]\n",
    "        finding_label = self.finding_labels[index]\n",
    "        inputs = self.processor(images=[image], text=f\" USER: <s>{prompt} ASSISTANT: <s>\", return_tensors=\"pt\")\n",
    "        inputs = {k: v.squeeze(0) for k, v in inputs.items()}  # Adjust as necessary\n",
    "\n",
    "        return inputs, image_path, prompt_key, finding_label\n",
    "\n",
    "\n",
    "def disp_df(dataframe):\n",
    "    display(dataframe.head())\n",
    "    print(f\"nRows: {dataframe.shape[0]:,}\\tnColumns: {dataframe.shape[1]}\")"
   ]
  },
  {
   "cell_type": "markdown",
   "metadata": {},
   "source": [
    "### Prepare input data for analysis\n"
   ]
  },
  {
   "cell_type": "markdown",
   "metadata": {},
   "source": [
    "###### NIH Chest X-ray dataset\n"
   ]
  },
  {
   "cell_type": "code",
   "execution_count": 2,
   "metadata": {},
   "outputs": [
    {
     "data": {
      "text/html": [
       "<div>\n",
       "<style scoped>\n",
       "    .dataframe tbody tr th:only-of-type {\n",
       "        vertical-align: middle;\n",
       "    }\n",
       "\n",
       "    .dataframe tbody tr th {\n",
       "        vertical-align: top;\n",
       "    }\n",
       "\n",
       "    .dataframe thead th {\n",
       "        text-align: right;\n",
       "    }\n",
       "</style>\n",
       "<table border=\"1\" class=\"dataframe\">\n",
       "  <thead>\n",
       "    <tr style=\"text-align: right;\">\n",
       "      <th></th>\n",
       "      <th>image_index</th>\n",
       "      <th>finding_labels</th>\n",
       "      <th>follow_up_number</th>\n",
       "      <th>patient_id</th>\n",
       "      <th>patient_age</th>\n",
       "      <th>patient_gender</th>\n",
       "      <th>view_position</th>\n",
       "      <th>original_image_width</th>\n",
       "      <th>original_image_height</th>\n",
       "      <th>original_image_pixel_spacing_x</th>\n",
       "      <th>original_image_pixel_spacing_y</th>\n",
       "    </tr>\n",
       "  </thead>\n",
       "  <tbody>\n",
       "    <tr>\n",
       "      <th>0</th>\n",
       "      <td>00000001_000.png</td>\n",
       "      <td>Cardiomegaly</td>\n",
       "      <td>0</td>\n",
       "      <td>1</td>\n",
       "      <td>58</td>\n",
       "      <td>M</td>\n",
       "      <td>PA</td>\n",
       "      <td>2682</td>\n",
       "      <td>2749</td>\n",
       "      <td>0.143</td>\n",
       "      <td>0.143</td>\n",
       "    </tr>\n",
       "    <tr>\n",
       "      <th>1</th>\n",
       "      <td>00000001_001.png</td>\n",
       "      <td>Cardiomegaly|Emphysema</td>\n",
       "      <td>1</td>\n",
       "      <td>1</td>\n",
       "      <td>58</td>\n",
       "      <td>M</td>\n",
       "      <td>PA</td>\n",
       "      <td>2894</td>\n",
       "      <td>2729</td>\n",
       "      <td>0.143</td>\n",
       "      <td>0.143</td>\n",
       "    </tr>\n",
       "    <tr>\n",
       "      <th>2</th>\n",
       "      <td>00000001_002.png</td>\n",
       "      <td>Cardiomegaly|Effusion</td>\n",
       "      <td>2</td>\n",
       "      <td>1</td>\n",
       "      <td>58</td>\n",
       "      <td>M</td>\n",
       "      <td>PA</td>\n",
       "      <td>2500</td>\n",
       "      <td>2048</td>\n",
       "      <td>0.168</td>\n",
       "      <td>0.168</td>\n",
       "    </tr>\n",
       "    <tr>\n",
       "      <th>3</th>\n",
       "      <td>00000002_000.png</td>\n",
       "      <td>No Finding</td>\n",
       "      <td>0</td>\n",
       "      <td>2</td>\n",
       "      <td>81</td>\n",
       "      <td>M</td>\n",
       "      <td>PA</td>\n",
       "      <td>2500</td>\n",
       "      <td>2048</td>\n",
       "      <td>0.171</td>\n",
       "      <td>0.171</td>\n",
       "    </tr>\n",
       "    <tr>\n",
       "      <th>4</th>\n",
       "      <td>00000003_000.png</td>\n",
       "      <td>Hernia</td>\n",
       "      <td>0</td>\n",
       "      <td>3</td>\n",
       "      <td>81</td>\n",
       "      <td>F</td>\n",
       "      <td>PA</td>\n",
       "      <td>2582</td>\n",
       "      <td>2991</td>\n",
       "      <td>0.143</td>\n",
       "      <td>0.143</td>\n",
       "    </tr>\n",
       "  </tbody>\n",
       "</table>\n",
       "</div>"
      ],
      "text/plain": [
       "        image_index          finding_labels  follow_up_number  patient_id  \\\n",
       "0  00000001_000.png            Cardiomegaly                 0           1   \n",
       "1  00000001_001.png  Cardiomegaly|Emphysema                 1           1   \n",
       "2  00000001_002.png   Cardiomegaly|Effusion                 2           1   \n",
       "3  00000002_000.png              No Finding                 0           2   \n",
       "4  00000003_000.png                  Hernia                 0           3   \n",
       "\n",
       "   patient_age patient_gender view_position  original_image_width  \\\n",
       "0           58              M            PA                  2682   \n",
       "1           58              M            PA                  2894   \n",
       "2           58              M            PA                  2500   \n",
       "3           81              M            PA                  2500   \n",
       "4           81              F            PA                  2582   \n",
       "\n",
       "   original_image_height  original_image_pixel_spacing_x  \\\n",
       "0                   2749                           0.143   \n",
       "1                   2729                           0.143   \n",
       "2                   2048                           0.168   \n",
       "3                   2048                           0.171   \n",
       "4                   2991                           0.143   \n",
       "\n",
       "   original_image_pixel_spacing_y  \n",
       "0                           0.143  \n",
       "1                           0.143  \n",
       "2                           0.168  \n",
       "3                           0.171  \n",
       "4                           0.143  "
      ]
     },
     "metadata": {},
     "output_type": "display_data"
    },
    {
     "data": {
      "text/html": [
       "<pre style=\"white-space:pre;overflow-x:auto;line-height:normal;font-family:Menlo,'DejaVu Sans Mono',consolas,'Courier New',monospace\">nRows: <span style=\"color: #008080; text-decoration-color: #008080; font-weight: bold\">112</span>,<span style=\"color: #008080; text-decoration-color: #008080; font-weight: bold\">120</span>  nColumns: <span style=\"color: #008080; text-decoration-color: #008080; font-weight: bold\">11</span>\n",
       "</pre>\n"
      ],
      "text/plain": [
       "nRows: \u001b[1;36m112\u001b[0m,\u001b[1;36m120\u001b[0m  nColumns: \u001b[1;36m11\u001b[0m\n"
      ]
     },
     "metadata": {},
     "output_type": "display_data"
    }
   ],
   "source": [
    "column_names = [\"image_index\", \"finding_labels\", \"follow_up_number\", \"patient_id\", \"patient_age\", \"patient_gender\", \"view_position\", \"original_image_width\", \"original_image_height\", \"original_image_pixel_spacing_x\", \"original_image_pixel_spacing_y\"]  # fmt: skip # nopep8\n",
    "\n",
    "data = pd.read_csv(\n",
    "    \"./data/NIH_Chest_X-ray_Dataset/Data_Entry_2017.csv\",\n",
    "    names=column_names,\n",
    "    header=0,\n",
    "    index_col=False,\n",
    ")\n",
    "\n",
    "disp_df(data)"
   ]
  },
  {
   "cell_type": "markdown",
   "metadata": {},
   "source": [
    "#### Single finding cases\n"
   ]
  },
  {
   "cell_type": "markdown",
   "metadata": {},
   "source": [
    "###### Prompt dictionary\n"
   ]
  },
  {
   "cell_type": "code",
   "execution_count": 3,
   "metadata": {},
   "outputs": [],
   "source": [
    "# # import prompts dictionary\n",
    "# with open(\"data/prompts.json\", \"r\") as json_file:\n",
    "#     prompts = json.load(json_file)"
   ]
  },
  {
   "cell_type": "markdown",
   "metadata": {},
   "source": [
    "###### NIH Chest X-ray dataset: single finding cases with prompt_key column\n"
   ]
  },
  {
   "cell_type": "code",
   "execution_count": 4,
   "metadata": {},
   "outputs": [],
   "source": [
    "# data_single_finding = data.loc[\n",
    "#     (data[\"finding_labels\"].str.count(\"\\\\|\") + 1) == 1, [\"image_index\", \"finding_labels\"]\n",
    "# ].copy()\n",
    "# data_single_finding_prompts = pd.DataFrame()\n",
    "# for prompt_key in prompts.keys():\n",
    "#     df_i = data_single_finding.copy()\n",
    "#     df_i[\"prompt_key\"] = prompt_key\n",
    "#     data_single_finding_prompts = pd.concat([data_single_finding_prompts, df_i])\n",
    "\n",
    "# disp_df(data_single_finding_prompts)"
   ]
  },
  {
   "cell_type": "markdown",
   "metadata": {},
   "source": [
    "###### Load analyzed image/prompt combinations\n"
   ]
  },
  {
   "cell_type": "code",
   "execution_count": 5,
   "metadata": {},
   "outputs": [],
   "source": [
    "# df_results_prev = pd.read_csv(\"output/NIH_Chest_Xray_n1_findings/disease_classification_QA.csv.gz\", dtype=str)\n",
    "\n",
    "# disp_df(df_results_prev)"
   ]
  },
  {
   "cell_type": "markdown",
   "metadata": {},
   "source": [
    "###### Input image/prompt combinations that have not been analyzed\n"
   ]
  },
  {
   "cell_type": "code",
   "execution_count": 6,
   "metadata": {},
   "outputs": [],
   "source": [
    "# df_not_analyzed = pd.merge(left=data_single_finding_prompts, right=df_results_prev, how=\"left\").pipe(\n",
    "#     lambda x: x.loc[x[\"response\"].isna(), [\"image_index\", \"finding_labels\", \"prompt_key\"]]\n",
    "# )\n",
    "\n",
    "# disp_df(df_not_analyzed)"
   ]
  },
  {
   "cell_type": "markdown",
   "metadata": {},
   "source": [
    "###### sort the input dataframe\n"
   ]
  },
  {
   "cell_type": "code",
   "execution_count": 7,
   "metadata": {},
   "outputs": [],
   "source": [
    "# # show least analyzed finding_label first\n",
    "# count_map = df_results_prev[\"finding_labels\"].value_counts().to_dict()\n",
    "# df_not_analyzed[\"label_count\"] = df_not_analyzed[\"finding_labels\"].map(count_map)\n",
    "\n",
    "# # create int dtype of prompt key column\n",
    "# df_not_analyzed[\"prompt_key_int\"] = df_not_analyzed[\"prompt_key\"].astype(int)\n",
    "\n",
    "# df_not_analyzed = df_not_analyzed.sort_values([\"label_count\", \"image_index\", \"prompt_key_int\"], ignore_index=True).drop(\n",
    "#     columns=[\"label_count\", \"prompt_key_int\"]\n",
    "# )\n",
    "# disp_df(df_not_analyzed)"
   ]
  },
  {
   "cell_type": "markdown",
   "metadata": {},
   "source": [
    "###### add image filepaths\n"
   ]
  },
  {
   "cell_type": "code",
   "execution_count": 8,
   "metadata": {},
   "outputs": [],
   "source": [
    "# # import filepaths\n",
    "# df_full_paths = (\n",
    "#     pd.read_csv(\"./output/single_finding_datalist.csv\", usecols=[\"image_index\", \"image_path\"])\n",
    "#     .set_index(\"image_index\")[\"image_path\"]\n",
    "#     .to_dict()\n",
    "# )\n",
    "\n",
    "# df_not_analyzed[\"image_path\"] = df_not_analyzed[\"image_index\"].map(df_full_paths)\n",
    "\n",
    "# disp_df(df_not_analyzed)"
   ]
  },
  {
   "cell_type": "markdown",
   "metadata": {},
   "source": [
    "###### delete unused objects\n"
   ]
  },
  {
   "cell_type": "code",
   "execution_count": 9,
   "metadata": {},
   "outputs": [],
   "source": [
    "# del (\n",
    "#     column_names,\n",
    "#     count_map,\n",
    "#     data,\n",
    "#     data_single_finding,\n",
    "#     data_single_finding_prompts,\n",
    "#     df_full_paths,\n",
    "#     df_i,\n",
    "#     df_results_prev,\n",
    "#     filelist,\n",
    "#     json_file,\n",
    "#     prompt_key,\n",
    "# )"
   ]
  },
  {
   "cell_type": "markdown",
   "metadata": {},
   "source": [
    "###### define filepath for results\n"
   ]
  },
  {
   "cell_type": "code",
   "execution_count": 10,
   "metadata": {},
   "outputs": [],
   "source": [
    "# csv_file_parent = Path(\"output/NIH_Chest_Xray_n1_findings/\")"
   ]
  },
  {
   "cell_type": "markdown",
   "metadata": {},
   "source": [
    "#### Two findings cases\n"
   ]
  },
  {
   "cell_type": "markdown",
   "metadata": {},
   "source": [
    "###### Prompt dictionary\n"
   ]
  },
  {
   "cell_type": "code",
   "execution_count": 11,
   "metadata": {},
   "outputs": [],
   "source": [
    "# # import prompts dictionary\n",
    "# with open(\"data/prompts_two_findings.json\", \"r\") as json_file:\n",
    "#     prompts = json.load(json_file)"
   ]
  },
  {
   "cell_type": "markdown",
   "metadata": {},
   "source": [
    "###### NIH Chest X-ray dataset: two findings cases with prompt_key column\n"
   ]
  },
  {
   "cell_type": "code",
   "execution_count": 12,
   "metadata": {},
   "outputs": [],
   "source": [
    "# data_two_finding = data.loc[\n",
    "#     (data[\"finding_labels\"].str.count(\"\\\\|\") + 1) == 2, [\"image_index\", \"finding_labels\"]\n",
    "# ].copy()\n",
    "# data_two_finding_prompts = pd.DataFrame()\n",
    "# for prompt_key in prompts.keys():\n",
    "#     df_i = data_two_finding.copy()\n",
    "#     df_i[\"prompt_key\"] = prompt_key\n",
    "#     data_two_finding_prompts = pd.concat([data_two_finding_prompts, df_i])\n",
    "\n",
    "# disp_df(data_two_finding_prompts)"
   ]
  },
  {
   "cell_type": "markdown",
   "metadata": {},
   "source": [
    "###### Load analyzed image/prompt combinations\n"
   ]
  },
  {
   "cell_type": "code",
   "execution_count": 13,
   "metadata": {},
   "outputs": [],
   "source": [
    "# filelist = [x.as_posix() for x in Path(\"output/NIH_Chest_Xray_n2_findings\").glob(\"disease_classification_QA*.csv\")]\n",
    "\n",
    "# if filelist == []:\n",
    "#     df_results_prev = pd.DataFrame(columns=[\"image_index\", \"finding_labels\", \"prompt_key\", \"response\"])\n",
    "# else:\n",
    "#     df_results_prev = pd.DataFrame()\n",
    "#     for f in filelist:\n",
    "#         df_i = pd.read_csv(f, usecols=[\"image_index\", \"finding_labels\", \"prompt_key\", \"response\"], dtype=str)\n",
    "#         df_results_prev = pd.concat([df_results_prev, df_i])\n",
    "\n",
    "#     df_results_prev = df_results_prev.drop_duplicates(ignore_index=True)\n",
    "\n",
    "# disp_df(df_results_prev)"
   ]
  },
  {
   "cell_type": "markdown",
   "metadata": {},
   "source": [
    "###### Input image/prompt combinations that have not been analyzed\n"
   ]
  },
  {
   "cell_type": "code",
   "execution_count": 14,
   "metadata": {},
   "outputs": [],
   "source": [
    "# df_not_analyzed = pd.merge(left=data_two_finding_prompts, right=df_results_prev, how=\"left\").pipe(\n",
    "#     lambda x: x.loc[x[\"response\"].isna(), [\"image_index\", \"finding_labels\", \"prompt_key\"]]\n",
    "# )\n",
    "\n",
    "# disp_df(df_not_analyzed)"
   ]
  },
  {
   "cell_type": "markdown",
   "metadata": {},
   "source": [
    "###### sort the input dataframe\n"
   ]
  },
  {
   "cell_type": "code",
   "execution_count": 15,
   "metadata": {},
   "outputs": [],
   "source": [
    "# # show least analyzed finding_label first\n",
    "# count_map = df_results_prev[\"finding_labels\"].value_counts().to_dict()\n",
    "# df_not_analyzed[\"label_count\"] = df_not_analyzed[\"finding_labels\"].map(count_map)\n",
    "\n",
    "# # create int dtype of prompt key column\n",
    "# df_not_analyzed[\"prompt_key_int\"] = df_not_analyzed[\"prompt_key\"].astype(int)\n",
    "\n",
    "# df_not_analyzed = df_not_analyzed.sort_values([\"label_count\", \"image_index\", \"prompt_key_int\"], ignore_index=True).drop(\n",
    "#     columns=[\"label_count\", \"prompt_key_int\"]\n",
    "# )\n",
    "# disp_df(df_not_analyzed)"
   ]
  },
  {
   "cell_type": "markdown",
   "metadata": {},
   "source": [
    "###### add image filepaths\n"
   ]
  },
  {
   "cell_type": "code",
   "execution_count": 16,
   "metadata": {},
   "outputs": [],
   "source": [
    "# # import filepaths\n",
    "# df_full_paths = pd.read_csv(\"data/NIH_Chest_X-ray_image_filepaths.csv\").set_index(\"image_index\")[\"image_path\"].to_dict()\n",
    "\n",
    "# df_not_analyzed[\"image_path\"] = df_not_analyzed[\"image_index\"].map(df_full_paths)\n",
    "\n",
    "# disp_df(df_not_analyzed)"
   ]
  },
  {
   "cell_type": "markdown",
   "metadata": {},
   "source": [
    "###### delete unused objects\n"
   ]
  },
  {
   "cell_type": "code",
   "execution_count": 17,
   "metadata": {},
   "outputs": [],
   "source": [
    "# del (\n",
    "#     column_names,\n",
    "#     count_map,\n",
    "#     data,\n",
    "#     data_two_finding,\n",
    "#     data_two_finding_prompts,\n",
    "#     df_full_paths,\n",
    "#     df_i,\n",
    "#     df_results_prev,\n",
    "#     filelist,\n",
    "#     json_file,\n",
    "#     prompt_key,\n",
    "# )"
   ]
  },
  {
   "cell_type": "markdown",
   "metadata": {},
   "source": [
    "###### define filepath for results\n"
   ]
  },
  {
   "cell_type": "code",
   "execution_count": 18,
   "metadata": {},
   "outputs": [],
   "source": [
    "# csv_file_parent = Path(\"output/NIH_Chest_Xray_n2_findings/\")"
   ]
  },
  {
   "cell_type": "markdown",
   "metadata": {},
   "source": [
    "#### Three or more findings cases\n"
   ]
  },
  {
   "cell_type": "markdown",
   "metadata": {},
   "source": [
    "###### Prompt dictionary\n"
   ]
  },
  {
   "cell_type": "code",
   "execution_count": 19,
   "metadata": {},
   "outputs": [],
   "source": [
    "# import prompts dictionary\n",
    "with open(\"data/prompts_three_or_more_findings.json\", \"r\") as json_file:\n",
    "    prompts = json.load(json_file)"
   ]
  },
  {
   "cell_type": "markdown",
   "metadata": {},
   "source": [
    "###### NIH Chest X-ray dataset: two findings cases with prompt_key column\n"
   ]
  },
  {
   "cell_type": "code",
   "execution_count": 20,
   "metadata": {},
   "outputs": [
    {
     "data": {
      "text/html": [
       "<div>\n",
       "<style scoped>\n",
       "    .dataframe tbody tr th:only-of-type {\n",
       "        vertical-align: middle;\n",
       "    }\n",
       "\n",
       "    .dataframe tbody tr th {\n",
       "        vertical-align: top;\n",
       "    }\n",
       "\n",
       "    .dataframe thead th {\n",
       "        text-align: right;\n",
       "    }\n",
       "</style>\n",
       "<table border=\"1\" class=\"dataframe\">\n",
       "  <thead>\n",
       "    <tr style=\"text-align: right;\">\n",
       "      <th></th>\n",
       "      <th>image_index</th>\n",
       "      <th>finding_labels</th>\n",
       "      <th>prompt_key</th>\n",
       "    </tr>\n",
       "  </thead>\n",
       "  <tbody>\n",
       "    <tr>\n",
       "      <th>42</th>\n",
       "      <td>00000013_004.png</td>\n",
       "      <td>Effusion|Emphysema|Infiltration|Pneumothorax</td>\n",
       "      <td>21</td>\n",
       "    </tr>\n",
       "    <tr>\n",
       "      <th>43</th>\n",
       "      <td>00000013_005.png</td>\n",
       "      <td>Emphysema|Infiltration|Pleural_Thickening|Pneu...</td>\n",
       "      <td>21</td>\n",
       "    </tr>\n",
       "    <tr>\n",
       "      <th>48</th>\n",
       "      <td>00000013_010.png</td>\n",
       "      <td>Effusion|Pneumonia|Pneumothorax</td>\n",
       "      <td>21</td>\n",
       "    </tr>\n",
       "    <tr>\n",
       "      <th>56</th>\n",
       "      <td>00000013_018.png</td>\n",
       "      <td>Effusion|Infiltration|Pneumothorax</td>\n",
       "      <td>21</td>\n",
       "    </tr>\n",
       "    <tr>\n",
       "      <th>61</th>\n",
       "      <td>00000013_023.png</td>\n",
       "      <td>Infiltration|Mass|Pneumothorax</td>\n",
       "      <td>21</td>\n",
       "    </tr>\n",
       "  </tbody>\n",
       "</table>\n",
       "</div>"
      ],
      "text/plain": [
       "         image_index                                     finding_labels  \\\n",
       "42  00000013_004.png       Effusion|Emphysema|Infiltration|Pneumothorax   \n",
       "43  00000013_005.png  Emphysema|Infiltration|Pleural_Thickening|Pneu...   \n",
       "48  00000013_010.png                    Effusion|Pneumonia|Pneumothorax   \n",
       "56  00000013_018.png                 Effusion|Infiltration|Pneumothorax   \n",
       "61  00000013_023.png                     Infiltration|Mass|Pneumothorax   \n",
       "\n",
       "   prompt_key  \n",
       "42         21  \n",
       "43         21  \n",
       "48         21  \n",
       "56         21  \n",
       "61         21  "
      ]
     },
     "metadata": {},
     "output_type": "display_data"
    },
    {
     "data": {
      "text/html": [
       "<pre style=\"white-space:pre;overflow-x:auto;line-height:normal;font-family:Menlo,'DejaVu Sans Mono',consolas,'Courier New',monospace\">nRows: <span style=\"color: #008080; text-decoration-color: #008080; font-weight: bold\">58</span>,<span style=\"color: #008080; text-decoration-color: #008080; font-weight: bold\">410</span>   nColumns: <span style=\"color: #008080; text-decoration-color: #008080; font-weight: bold\">3</span>\n",
       "</pre>\n"
      ],
      "text/plain": [
       "nRows: \u001b[1;36m58\u001b[0m,\u001b[1;36m410\u001b[0m   nColumns: \u001b[1;36m3\u001b[0m\n"
      ]
     },
     "metadata": {},
     "output_type": "display_data"
    }
   ],
   "source": [
    "data_many_finding = data.loc[\n",
    "    (data[\"finding_labels\"].str.count(\"\\\\|\") + 1) > 2, [\"image_index\", \"finding_labels\"]\n",
    "].copy()\n",
    "data_many_finding_prompts = pd.DataFrame()\n",
    "for prompt_key in prompts.keys():\n",
    "    df_i = data_many_finding.copy()\n",
    "    df_i[\"prompt_key\"] = prompt_key\n",
    "    data_many_finding_prompts = pd.concat([data_many_finding_prompts, df_i])\n",
    "\n",
    "disp_df(data_many_finding_prompts)"
   ]
  },
  {
   "cell_type": "markdown",
   "metadata": {},
   "source": [
    "###### Load analyzed image/prompt combinations\n"
   ]
  },
  {
   "cell_type": "code",
   "execution_count": 21,
   "metadata": {},
   "outputs": [
    {
     "data": {
      "text/html": [
       "<div>\n",
       "<style scoped>\n",
       "    .dataframe tbody tr th:only-of-type {\n",
       "        vertical-align: middle;\n",
       "    }\n",
       "\n",
       "    .dataframe tbody tr th {\n",
       "        vertical-align: top;\n",
       "    }\n",
       "\n",
       "    .dataframe thead th {\n",
       "        text-align: right;\n",
       "    }\n",
       "</style>\n",
       "<table border=\"1\" class=\"dataframe\">\n",
       "  <thead>\n",
       "    <tr style=\"text-align: right;\">\n",
       "      <th></th>\n",
       "      <th>image_index</th>\n",
       "      <th>finding_labels</th>\n",
       "      <th>prompt_key</th>\n",
       "      <th>response</th>\n",
       "    </tr>\n",
       "  </thead>\n",
       "  <tbody>\n",
       "  </tbody>\n",
       "</table>\n",
       "</div>"
      ],
      "text/plain": [
       "Empty DataFrame\n",
       "Columns: [image_index, finding_labels, prompt_key, response]\n",
       "Index: []"
      ]
     },
     "metadata": {},
     "output_type": "display_data"
    },
    {
     "data": {
      "text/html": [
       "<pre style=\"white-space:pre;overflow-x:auto;line-height:normal;font-family:Menlo,'DejaVu Sans Mono',consolas,'Courier New',monospace\">nRows: <span style=\"color: #008080; text-decoration-color: #008080; font-weight: bold\">0</span>        nColumns: <span style=\"color: #008080; text-decoration-color: #008080; font-weight: bold\">4</span>\n",
       "</pre>\n"
      ],
      "text/plain": [
       "nRows: \u001b[1;36m0\u001b[0m        nColumns: \u001b[1;36m4\u001b[0m\n"
      ]
     },
     "metadata": {},
     "output_type": "display_data"
    }
   ],
   "source": [
    "filelist = [x.as_posix() for x in Path(\"output/NIH_Chest_Xray_many_findings\").glob(\"disease_classification_QA*.csv\")]\n",
    "\n",
    "if filelist == []:\n",
    "    df_results_prev = pd.DataFrame(columns=[\"image_index\", \"finding_labels\", \"prompt_key\", \"response\"])\n",
    "else:\n",
    "    df_results_prev = pd.DataFrame()\n",
    "    for f in filelist:\n",
    "        df_i = pd.read_csv(f, usecols=[\"image_index\", \"finding_labels\", \"prompt_key\", \"response\"], dtype=str)\n",
    "        df_results_prev = pd.concat([df_results_prev, df_i])\n",
    "\n",
    "    df_results_prev = df_results_prev.drop_duplicates(ignore_index=True)\n",
    "\n",
    "disp_df(df_results_prev)"
   ]
  },
  {
   "cell_type": "markdown",
   "metadata": {},
   "source": [
    "###### Input image/prompt combinations that have not been analyzed\n"
   ]
  },
  {
   "cell_type": "code",
   "execution_count": 22,
   "metadata": {},
   "outputs": [
    {
     "data": {
      "text/html": [
       "<div>\n",
       "<style scoped>\n",
       "    .dataframe tbody tr th:only-of-type {\n",
       "        vertical-align: middle;\n",
       "    }\n",
       "\n",
       "    .dataframe tbody tr th {\n",
       "        vertical-align: top;\n",
       "    }\n",
       "\n",
       "    .dataframe thead th {\n",
       "        text-align: right;\n",
       "    }\n",
       "</style>\n",
       "<table border=\"1\" class=\"dataframe\">\n",
       "  <thead>\n",
       "    <tr style=\"text-align: right;\">\n",
       "      <th></th>\n",
       "      <th>image_index</th>\n",
       "      <th>finding_labels</th>\n",
       "      <th>prompt_key</th>\n",
       "    </tr>\n",
       "  </thead>\n",
       "  <tbody>\n",
       "    <tr>\n",
       "      <th>0</th>\n",
       "      <td>00000013_004.png</td>\n",
       "      <td>Effusion|Emphysema|Infiltration|Pneumothorax</td>\n",
       "      <td>21</td>\n",
       "    </tr>\n",
       "    <tr>\n",
       "      <th>1</th>\n",
       "      <td>00000013_005.png</td>\n",
       "      <td>Emphysema|Infiltration|Pleural_Thickening|Pneu...</td>\n",
       "      <td>21</td>\n",
       "    </tr>\n",
       "    <tr>\n",
       "      <th>2</th>\n",
       "      <td>00000013_010.png</td>\n",
       "      <td>Effusion|Pneumonia|Pneumothorax</td>\n",
       "      <td>21</td>\n",
       "    </tr>\n",
       "    <tr>\n",
       "      <th>3</th>\n",
       "      <td>00000013_018.png</td>\n",
       "      <td>Effusion|Infiltration|Pneumothorax</td>\n",
       "      <td>21</td>\n",
       "    </tr>\n",
       "    <tr>\n",
       "      <th>4</th>\n",
       "      <td>00000013_023.png</td>\n",
       "      <td>Infiltration|Mass|Pneumothorax</td>\n",
       "      <td>21</td>\n",
       "    </tr>\n",
       "  </tbody>\n",
       "</table>\n",
       "</div>"
      ],
      "text/plain": [
       "        image_index                                     finding_labels  \\\n",
       "0  00000013_004.png       Effusion|Emphysema|Infiltration|Pneumothorax   \n",
       "1  00000013_005.png  Emphysema|Infiltration|Pleural_Thickening|Pneu...   \n",
       "2  00000013_010.png                    Effusion|Pneumonia|Pneumothorax   \n",
       "3  00000013_018.png                 Effusion|Infiltration|Pneumothorax   \n",
       "4  00000013_023.png                     Infiltration|Mass|Pneumothorax   \n",
       "\n",
       "  prompt_key  \n",
       "0         21  \n",
       "1         21  \n",
       "2         21  \n",
       "3         21  \n",
       "4         21  "
      ]
     },
     "metadata": {},
     "output_type": "display_data"
    },
    {
     "data": {
      "text/html": [
       "<pre style=\"white-space:pre;overflow-x:auto;line-height:normal;font-family:Menlo,'DejaVu Sans Mono',consolas,'Courier New',monospace\">nRows: <span style=\"color: #008080; text-decoration-color: #008080; font-weight: bold\">58</span>,<span style=\"color: #008080; text-decoration-color: #008080; font-weight: bold\">410</span>   nColumns: <span style=\"color: #008080; text-decoration-color: #008080; font-weight: bold\">3</span>\n",
       "</pre>\n"
      ],
      "text/plain": [
       "nRows: \u001b[1;36m58\u001b[0m,\u001b[1;36m410\u001b[0m   nColumns: \u001b[1;36m3\u001b[0m\n"
      ]
     },
     "metadata": {},
     "output_type": "display_data"
    }
   ],
   "source": [
    "df_not_analyzed = pd.merge(left=data_many_finding_prompts, right=df_results_prev, how=\"left\").pipe(\n",
    "    lambda x: x.loc[x[\"response\"].isna(), [\"image_index\", \"finding_labels\", \"prompt_key\"]]\n",
    ")\n",
    "\n",
    "disp_df(df_not_analyzed)"
   ]
  },
  {
   "cell_type": "markdown",
   "metadata": {},
   "source": [
    "###### sort the input dataframe\n"
   ]
  },
  {
   "cell_type": "code",
   "execution_count": 23,
   "metadata": {},
   "outputs": [
    {
     "data": {
      "text/html": [
       "<div>\n",
       "<style scoped>\n",
       "    .dataframe tbody tr th:only-of-type {\n",
       "        vertical-align: middle;\n",
       "    }\n",
       "\n",
       "    .dataframe tbody tr th {\n",
       "        vertical-align: top;\n",
       "    }\n",
       "\n",
       "    .dataframe thead th {\n",
       "        text-align: right;\n",
       "    }\n",
       "</style>\n",
       "<table border=\"1\" class=\"dataframe\">\n",
       "  <thead>\n",
       "    <tr style=\"text-align: right;\">\n",
       "      <th></th>\n",
       "      <th>image_index</th>\n",
       "      <th>finding_labels</th>\n",
       "      <th>prompt_key</th>\n",
       "    </tr>\n",
       "  </thead>\n",
       "  <tbody>\n",
       "    <tr>\n",
       "      <th>0</th>\n",
       "      <td>00000013_004.png</td>\n",
       "      <td>Effusion|Emphysema|Infiltration|Pneumothorax</td>\n",
       "      <td>21</td>\n",
       "    </tr>\n",
       "    <tr>\n",
       "      <th>1</th>\n",
       "      <td>00000013_004.png</td>\n",
       "      <td>Effusion|Emphysema|Infiltration|Pneumothorax</td>\n",
       "      <td>22</td>\n",
       "    </tr>\n",
       "    <tr>\n",
       "      <th>2</th>\n",
       "      <td>00000013_004.png</td>\n",
       "      <td>Effusion|Emphysema|Infiltration|Pneumothorax</td>\n",
       "      <td>23</td>\n",
       "    </tr>\n",
       "    <tr>\n",
       "      <th>3</th>\n",
       "      <td>00000013_004.png</td>\n",
       "      <td>Effusion|Emphysema|Infiltration|Pneumothorax</td>\n",
       "      <td>25</td>\n",
       "    </tr>\n",
       "    <tr>\n",
       "      <th>4</th>\n",
       "      <td>00000013_004.png</td>\n",
       "      <td>Effusion|Emphysema|Infiltration|Pneumothorax</td>\n",
       "      <td>26</td>\n",
       "    </tr>\n",
       "  </tbody>\n",
       "</table>\n",
       "</div>"
      ],
      "text/plain": [
       "        image_index                                finding_labels prompt_key\n",
       "0  00000013_004.png  Effusion|Emphysema|Infiltration|Pneumothorax         21\n",
       "1  00000013_004.png  Effusion|Emphysema|Infiltration|Pneumothorax         22\n",
       "2  00000013_004.png  Effusion|Emphysema|Infiltration|Pneumothorax         23\n",
       "3  00000013_004.png  Effusion|Emphysema|Infiltration|Pneumothorax         25\n",
       "4  00000013_004.png  Effusion|Emphysema|Infiltration|Pneumothorax         26"
      ]
     },
     "metadata": {},
     "output_type": "display_data"
    },
    {
     "data": {
      "text/html": [
       "<pre style=\"white-space:pre;overflow-x:auto;line-height:normal;font-family:Menlo,'DejaVu Sans Mono',consolas,'Courier New',monospace\">nRows: <span style=\"color: #008080; text-decoration-color: #008080; font-weight: bold\">58</span>,<span style=\"color: #008080; text-decoration-color: #008080; font-weight: bold\">410</span>   nColumns: <span style=\"color: #008080; text-decoration-color: #008080; font-weight: bold\">3</span>\n",
       "</pre>\n"
      ],
      "text/plain": [
       "nRows: \u001b[1;36m58\u001b[0m,\u001b[1;36m410\u001b[0m   nColumns: \u001b[1;36m3\u001b[0m\n"
      ]
     },
     "metadata": {},
     "output_type": "display_data"
    }
   ],
   "source": [
    "# show least analyzed finding_label first\n",
    "count_map = df_results_prev[\"finding_labels\"].value_counts().to_dict()\n",
    "df_not_analyzed[\"label_count\"] = df_not_analyzed[\"finding_labels\"].map(count_map)\n",
    "\n",
    "# create int dtype of prompt key column\n",
    "df_not_analyzed[\"prompt_key_int\"] = df_not_analyzed[\"prompt_key\"].astype(int)\n",
    "\n",
    "df_not_analyzed = df_not_analyzed.sort_values([\"label_count\", \"image_index\", \"prompt_key_int\"], ignore_index=True).drop(\n",
    "    columns=[\"label_count\", \"prompt_key_int\"]\n",
    ")\n",
    "disp_df(df_not_analyzed)"
   ]
  },
  {
   "cell_type": "markdown",
   "metadata": {},
   "source": [
    "###### add image filepaths\n"
   ]
  },
  {
   "cell_type": "code",
   "execution_count": 24,
   "metadata": {},
   "outputs": [
    {
     "data": {
      "text/html": [
       "<div>\n",
       "<style scoped>\n",
       "    .dataframe tbody tr th:only-of-type {\n",
       "        vertical-align: middle;\n",
       "    }\n",
       "\n",
       "    .dataframe tbody tr th {\n",
       "        vertical-align: top;\n",
       "    }\n",
       "\n",
       "    .dataframe thead th {\n",
       "        text-align: right;\n",
       "    }\n",
       "</style>\n",
       "<table border=\"1\" class=\"dataframe\">\n",
       "  <thead>\n",
       "    <tr style=\"text-align: right;\">\n",
       "      <th></th>\n",
       "      <th>image_index</th>\n",
       "      <th>finding_labels</th>\n",
       "      <th>prompt_key</th>\n",
       "      <th>image_path</th>\n",
       "    </tr>\n",
       "  </thead>\n",
       "  <tbody>\n",
       "    <tr>\n",
       "      <th>0</th>\n",
       "      <td>00000013_004.png</td>\n",
       "      <td>Effusion|Emphysema|Infiltration|Pneumothorax</td>\n",
       "      <td>21</td>\n",
       "      <td>/data/irf/ai/rustadmd/CheXagent/data/NIH_Chest...</td>\n",
       "    </tr>\n",
       "    <tr>\n",
       "      <th>1</th>\n",
       "      <td>00000013_004.png</td>\n",
       "      <td>Effusion|Emphysema|Infiltration|Pneumothorax</td>\n",
       "      <td>22</td>\n",
       "      <td>/data/irf/ai/rustadmd/CheXagent/data/NIH_Chest...</td>\n",
       "    </tr>\n",
       "    <tr>\n",
       "      <th>2</th>\n",
       "      <td>00000013_004.png</td>\n",
       "      <td>Effusion|Emphysema|Infiltration|Pneumothorax</td>\n",
       "      <td>23</td>\n",
       "      <td>/data/irf/ai/rustadmd/CheXagent/data/NIH_Chest...</td>\n",
       "    </tr>\n",
       "    <tr>\n",
       "      <th>3</th>\n",
       "      <td>00000013_004.png</td>\n",
       "      <td>Effusion|Emphysema|Infiltration|Pneumothorax</td>\n",
       "      <td>25</td>\n",
       "      <td>/data/irf/ai/rustadmd/CheXagent/data/NIH_Chest...</td>\n",
       "    </tr>\n",
       "    <tr>\n",
       "      <th>4</th>\n",
       "      <td>00000013_004.png</td>\n",
       "      <td>Effusion|Emphysema|Infiltration|Pneumothorax</td>\n",
       "      <td>26</td>\n",
       "      <td>/data/irf/ai/rustadmd/CheXagent/data/NIH_Chest...</td>\n",
       "    </tr>\n",
       "  </tbody>\n",
       "</table>\n",
       "</div>"
      ],
      "text/plain": [
       "        image_index                                finding_labels prompt_key  \\\n",
       "0  00000013_004.png  Effusion|Emphysema|Infiltration|Pneumothorax         21   \n",
       "1  00000013_004.png  Effusion|Emphysema|Infiltration|Pneumothorax         22   \n",
       "2  00000013_004.png  Effusion|Emphysema|Infiltration|Pneumothorax         23   \n",
       "3  00000013_004.png  Effusion|Emphysema|Infiltration|Pneumothorax         25   \n",
       "4  00000013_004.png  Effusion|Emphysema|Infiltration|Pneumothorax         26   \n",
       "\n",
       "                                          image_path  \n",
       "0  /data/irf/ai/rustadmd/CheXagent/data/NIH_Chest...  \n",
       "1  /data/irf/ai/rustadmd/CheXagent/data/NIH_Chest...  \n",
       "2  /data/irf/ai/rustadmd/CheXagent/data/NIH_Chest...  \n",
       "3  /data/irf/ai/rustadmd/CheXagent/data/NIH_Chest...  \n",
       "4  /data/irf/ai/rustadmd/CheXagent/data/NIH_Chest...  "
      ]
     },
     "metadata": {},
     "output_type": "display_data"
    },
    {
     "data": {
      "text/html": [
       "<pre style=\"white-space:pre;overflow-x:auto;line-height:normal;font-family:Menlo,'DejaVu Sans Mono',consolas,'Courier New',monospace\">nRows: <span style=\"color: #008080; text-decoration-color: #008080; font-weight: bold\">58</span>,<span style=\"color: #008080; text-decoration-color: #008080; font-weight: bold\">410</span>   nColumns: <span style=\"color: #008080; text-decoration-color: #008080; font-weight: bold\">4</span>\n",
       "</pre>\n"
      ],
      "text/plain": [
       "nRows: \u001b[1;36m58\u001b[0m,\u001b[1;36m410\u001b[0m   nColumns: \u001b[1;36m4\u001b[0m\n"
      ]
     },
     "metadata": {},
     "output_type": "display_data"
    }
   ],
   "source": [
    "# import filepaths\n",
    "df_full_paths = pd.read_csv(\"data/NIH_Chest_X-ray_image_filepaths.csv\").set_index(\"image_index\")[\"image_path\"].to_dict()\n",
    "\n",
    "df_not_analyzed[\"image_path\"] = df_not_analyzed[\"image_index\"].map(df_full_paths)\n",
    "\n",
    "disp_df(df_not_analyzed)"
   ]
  },
  {
   "cell_type": "markdown",
   "metadata": {},
   "source": [
    "###### delete unused objects\n"
   ]
  },
  {
   "cell_type": "code",
   "execution_count": 25,
   "metadata": {},
   "outputs": [],
   "source": [
    "del (\n",
    "    column_names,\n",
    "    count_map,\n",
    "    data,\n",
    "    data_many_finding,\n",
    "    data_many_finding_prompts,\n",
    "    df_full_paths,\n",
    "    df_i,\n",
    "    df_results_prev,\n",
    "    filelist,\n",
    "    json_file,\n",
    "    prompt_key,\n",
    ")"
   ]
  },
  {
   "cell_type": "markdown",
   "metadata": {},
   "source": [
    "###### define filepath for results\n"
   ]
  },
  {
   "cell_type": "code",
   "execution_count": 26,
   "metadata": {},
   "outputs": [],
   "source": [
    "csv_file_parent = Path(\"output/NIH_Chest_Xray_many_findings/\")"
   ]
  },
  {
   "cell_type": "markdown",
   "metadata": {},
   "source": [
    "### Using CheXagent\n"
   ]
  },
  {
   "cell_type": "markdown",
   "metadata": {},
   "source": [
    "###### initialize `CheXpertDataset`\n"
   ]
  },
  {
   "cell_type": "code",
   "execution_count": 27,
   "metadata": {},
   "outputs": [
    {
     "data": {
      "application/vnd.jupyter.widget-view+json": {
       "model_id": "27f00a5f07864af2a5b7f76c30cbe29e",
       "version_major": 2,
       "version_minor": 0
      },
      "text/plain": [
       "Loading checkpoint shards:   0%|          | 0/7 [00:00<?, ?it/s]"
      ]
     },
     "metadata": {},
     "output_type": "display_data"
    }
   ],
   "source": [
    "dataset = CheXpertDataset(\n",
    "    df_not_analyzed[\"image_path\"].values,\n",
    "    df_not_analyzed[\"finding_labels\"].values,\n",
    "    df_not_analyzed[\"prompt_key\"].values,\n",
    "    prompts,\n",
    ")\n",
    "# keys=[key for key in prompts.keys()]\n",
    "# dataset = CheXpertDataset(\n",
    "#     [\"data/DRR.jpg\"] * len(keys),\n",
    "#     [\"No Finding\"] * len(keys),\n",
    "#     [key for key in prompts.keys()],\n",
    "#     prompts,\n",
    "# )\n",
    "data_loader = DataLoader(dataset, batch_size=1, shuffle=False)  # Batch size set to 1 for simplicity\n",
    "processor = dataset.processor\n",
    "\n",
    "# Load the model and set it to evaluation mode\n",
    "device = \"cuda\"\n",
    "dtype = torch.float16\n",
    "\n",
    "model_name = \"StanfordAIMI/CheXagent-8b\"\n",
    "model = AutoModelForCausalLM.from_pretrained(model_name, torch_dtype=dtype, trust_remote_code=True).to(device)\n",
    "model.eval()\n",
    "\n",
    "# Load generation config if needed\n",
    "generation_config = GenerationConfig.from_pretrained(model_name)"
   ]
  },
  {
   "cell_type": "markdown",
   "metadata": {},
   "source": [
    "###### run the analysis\n"
   ]
  },
  {
   "cell_type": "code",
   "execution_count": 28,
   "metadata": {},
   "outputs": [
    {
     "data": {
      "application/vnd.jupyter.widget-view+json": {
       "model_id": "67299142ac0f4d77ba518331a1ed97d9",
       "version_major": 2,
       "version_minor": 0
      },
      "text/plain": [
       "Processing images:   0%|          | 0/58410 [00:00<?, ?it/s]"
      ]
     },
     "metadata": {},
     "output_type": "display_data"
    }
   ],
   "source": [
    "now = datetime.now()\n",
    "datetime_str = now.strftime(\"%Y%m%d_%H%M%S\")\n",
    "csv_file_path = csv_file_parent.joinpath(f\"disease_classification_QA_{datetime_str}.csv\").as_posix()\n",
    "\n",
    "warnings.filterwarnings(\"ignore\", category=UserWarning)\n",
    "\n",
    "with open(csv_file_path, mode=\"w\", newline=\"\") as file:\n",
    "    writer = csv.writer(file)\n",
    "    writer.writerow([\"image_index\", \"finding_labels\", \"prompt_key\", \"response\"])\n",
    "\n",
    "    for batch in tqdm(data_loader, total=len(data_loader), desc=\"Processing images\"):\n",
    "        inputs = batch[0]\n",
    "        inputs = {k: v.to(\"cuda\") for k, v in inputs.items()}\n",
    "\n",
    "        image_path, prompt_key, finding_label = [x[0] for x in batch[1:]]\n",
    "        image_index = Path(image_path).name\n",
    "\n",
    "        # Generate text; adjust depending on your model's API\n",
    "        output = model.generate(\n",
    "            **inputs, generation_config=generation_config, pad_token_id=processor.tokenizer.eos_token_id\n",
    "        )[0]\n",
    "\n",
    "        # Decode and print the generated text\n",
    "        generated_text = processor.tokenizer.decode(output, skip_special_tokens=True)\n",
    "\n",
    "        row_data = [image_index, finding_label, prompt_key, generated_text]\n",
    "        writer.writerow(row_data)\n",
    "\n",
    "warnings.resetwarnings()"
   ]
  }
 ],
 "metadata": {
  "kernelspec": {
   "display_name": "Python 3.11 (myenv_pip_first)",
   "language": "python",
   "name": "myenv_pip_first"
  },
  "language_info": {
   "codemirror_mode": {
    "name": "ipython",
    "version": 3
   },
   "file_extension": ".py",
   "mimetype": "text/x-python",
   "name": "python",
   "nbconvert_exporter": "python",
   "pygments_lexer": "ipython3",
   "version": "3.11.8"
  }
 },
 "nbformat": 4,
 "nbformat_minor": 2
}
