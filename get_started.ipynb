{
 "cells": [
  {
   "cell_type": "markdown",
   "metadata": {},
   "source": [
    "# CheXagent disease classification on [NIH Chest X-ray data](https://www.kaggle.com/datasets/nih-chest-xrays/sample/data)\n"
   ]
  },
  {
   "cell_type": "markdown",
   "metadata": {},
   "source": [
    "###### Imports\n"
   ]
  },
  {
   "cell_type": "code",
   "execution_count": 1,
   "metadata": {},
   "outputs": [],
   "source": [
    "import csv\n",
    "import io\n",
    "import json\n",
    "import warnings\n",
    "from datetime import datetime\n",
    "from pathlib import Path\n",
    "\n",
    "import matplotlib.pyplot as plt\n",
    "import pandas as pd\n",
    "import requests\n",
    "import seaborn as sns\n",
    "import torch\n",
    "from PIL import Image\n",
    "from rich import print\n",
    "from tqdm.notebook import tqdm\n",
    "from transformers import AutoModelForCausalLM, AutoProcessor, GenerationConfig\n",
    "\n",
    "sns.set_theme(context=\"notebook\", style=\"darkgrid\", font_scale=1.15)"
   ]
  },
  {
   "cell_type": "markdown",
   "metadata": {},
   "source": [
    "###### Function definitions\n"
   ]
  },
  {
   "cell_type": "code",
   "execution_count": 2,
   "metadata": {},
   "outputs": [],
   "source": [
    "def download_image(url):\n",
    "    resp = requests.get(url)\n",
    "    resp.raise_for_status()\n",
    "    return Image.open(io.BytesIO(resp.content)).convert(\"RGB\")\n",
    "\n",
    "\n",
    "def generate(images, prompt, processor, model, device, dtype, generation_config):\n",
    "    inputs = processor(images=images[:2], text=f\" USER: <s>{prompt} ASSISTANT: <s>\", return_tensors=\"pt\").to(\n",
    "        device=device, dtype=dtype\n",
    "    )\n",
    "    output = model.generate(\n",
    "        **inputs,\n",
    "        generation_config=generation_config,\n",
    "        # this silences \"Setting `pad_token_id` to `eos_token_id`:{eos_token_id} for open-end generation.\"\n",
    "        pad_token_id=processor.tokenizer.eos_token_id,\n",
    "    )[0]\n",
    "    response = processor.tokenizer.decode(output, skip_special_tokens=True)\n",
    "    return response\n",
    "\n",
    "\n",
    "def plot_img(image, title):\n",
    "    plt.imshow(image)\n",
    "    plt.axis(\"off\")\n",
    "    plt.title(title)\n",
    "    plt.show()\n",
    "\n",
    "\n",
    "def get_num_findings(string):\n",
    "    if string == \"No Finding\":\n",
    "        return 1\n",
    "    else:\n",
    "        return string.count(\")\")\n",
    "\n",
    "\n",
    "def is_label_in_response(series):\n",
    "    if series[\"finding_labels\"] in series[\"response\"]:\n",
    "        return True\n",
    "    else:\n",
    "        return False\n",
    "\n",
    "\n",
    "def is_true_positive(series):\n",
    "    if series[\"label_in_response\"] and (series[\"response_num_findings\"] == 1):\n",
    "        return True\n",
    "    else:\n",
    "        return False"
   ]
  },
  {
   "cell_type": "markdown",
   "metadata": {},
   "source": [
    "## NIH Chest X-ray dataset\n"
   ]
  },
  {
   "cell_type": "markdown",
   "metadata": {},
   "source": [
    "###### Load dataset\n"
   ]
  },
  {
   "cell_type": "code",
   "execution_count": 3,
   "metadata": {},
   "outputs": [
    {
     "data": {
      "text/html": [
       "<div>\n",
       "<style scoped>\n",
       "    .dataframe tbody tr th:only-of-type {\n",
       "        vertical-align: middle;\n",
       "    }\n",
       "\n",
       "    .dataframe tbody tr th {\n",
       "        vertical-align: top;\n",
       "    }\n",
       "\n",
       "    .dataframe thead th {\n",
       "        text-align: right;\n",
       "    }\n",
       "</style>\n",
       "<table border=\"1\" class=\"dataframe\">\n",
       "  <thead>\n",
       "    <tr style=\"text-align: right;\">\n",
       "      <th></th>\n",
       "      <th>image_index</th>\n",
       "      <th>finding_labels</th>\n",
       "      <th>follow_up_number</th>\n",
       "      <th>patient_id</th>\n",
       "      <th>patient_age</th>\n",
       "      <th>patient_gender</th>\n",
       "      <th>view_position</th>\n",
       "      <th>original_image_width</th>\n",
       "      <th>original_image_height</th>\n",
       "      <th>original_image_pixel_spacing_x</th>\n",
       "      <th>original_image_pixel_spacing_y</th>\n",
       "    </tr>\n",
       "  </thead>\n",
       "  <tbody>\n",
       "    <tr>\n",
       "      <th>0</th>\n",
       "      <td>00000001_000.png</td>\n",
       "      <td>Cardiomegaly</td>\n",
       "      <td>0</td>\n",
       "      <td>1</td>\n",
       "      <td>58</td>\n",
       "      <td>M</td>\n",
       "      <td>PA</td>\n",
       "      <td>2682</td>\n",
       "      <td>2749</td>\n",
       "      <td>0.143</td>\n",
       "      <td>0.143</td>\n",
       "    </tr>\n",
       "    <tr>\n",
       "      <th>1</th>\n",
       "      <td>00000001_001.png</td>\n",
       "      <td>Cardiomegaly|Emphysema</td>\n",
       "      <td>1</td>\n",
       "      <td>1</td>\n",
       "      <td>58</td>\n",
       "      <td>M</td>\n",
       "      <td>PA</td>\n",
       "      <td>2894</td>\n",
       "      <td>2729</td>\n",
       "      <td>0.143</td>\n",
       "      <td>0.143</td>\n",
       "    </tr>\n",
       "    <tr>\n",
       "      <th>2</th>\n",
       "      <td>00000001_002.png</td>\n",
       "      <td>Cardiomegaly|Effusion</td>\n",
       "      <td>2</td>\n",
       "      <td>1</td>\n",
       "      <td>58</td>\n",
       "      <td>M</td>\n",
       "      <td>PA</td>\n",
       "      <td>2500</td>\n",
       "      <td>2048</td>\n",
       "      <td>0.168</td>\n",
       "      <td>0.168</td>\n",
       "    </tr>\n",
       "    <tr>\n",
       "      <th>3</th>\n",
       "      <td>00000002_000.png</td>\n",
       "      <td>No Finding</td>\n",
       "      <td>0</td>\n",
       "      <td>2</td>\n",
       "      <td>81</td>\n",
       "      <td>M</td>\n",
       "      <td>PA</td>\n",
       "      <td>2500</td>\n",
       "      <td>2048</td>\n",
       "      <td>0.171</td>\n",
       "      <td>0.171</td>\n",
       "    </tr>\n",
       "    <tr>\n",
       "      <th>4</th>\n",
       "      <td>00000003_000.png</td>\n",
       "      <td>Hernia</td>\n",
       "      <td>0</td>\n",
       "      <td>3</td>\n",
       "      <td>81</td>\n",
       "      <td>F</td>\n",
       "      <td>PA</td>\n",
       "      <td>2582</td>\n",
       "      <td>2991</td>\n",
       "      <td>0.143</td>\n",
       "      <td>0.143</td>\n",
       "    </tr>\n",
       "  </tbody>\n",
       "</table>\n",
       "</div>"
      ],
      "text/plain": [
       "        image_index          finding_labels  follow_up_number  patient_id  \\\n",
       "0  00000001_000.png            Cardiomegaly                 0           1   \n",
       "1  00000001_001.png  Cardiomegaly|Emphysema                 1           1   \n",
       "2  00000001_002.png   Cardiomegaly|Effusion                 2           1   \n",
       "3  00000002_000.png              No Finding                 0           2   \n",
       "4  00000003_000.png                  Hernia                 0           3   \n",
       "\n",
       "   patient_age patient_gender view_position  original_image_width  \\\n",
       "0           58              M            PA                  2682   \n",
       "1           58              M            PA                  2894   \n",
       "2           58              M            PA                  2500   \n",
       "3           81              M            PA                  2500   \n",
       "4           81              F            PA                  2582   \n",
       "\n",
       "   original_image_height  original_image_pixel_spacing_x  \\\n",
       "0                   2749                           0.143   \n",
       "1                   2729                           0.143   \n",
       "2                   2048                           0.168   \n",
       "3                   2048                           0.171   \n",
       "4                   2991                           0.143   \n",
       "\n",
       "   original_image_pixel_spacing_y  \n",
       "0                           0.143  \n",
       "1                           0.143  \n",
       "2                           0.168  \n",
       "3                           0.171  \n",
       "4                           0.143  "
      ]
     },
     "metadata": {},
     "output_type": "display_data"
    },
    {
     "data": {
      "text/html": [
       "<pre style=\"white-space:pre;overflow-x:auto;line-height:normal;font-family:Menlo,'DejaVu Sans Mono',consolas,'Courier New',monospace\">Rows: <span style=\"color: #008080; text-decoration-color: #008080; font-weight: bold\">112</span>,<span style=\"color: #008080; text-decoration-color: #008080; font-weight: bold\">120</span>   Columns: <span style=\"color: #008080; text-decoration-color: #008080; font-weight: bold\">11</span>\n",
       "</pre>\n"
      ],
      "text/plain": [
       "Rows: \u001b[1;36m112\u001b[0m,\u001b[1;36m120\u001b[0m   Columns: \u001b[1;36m11\u001b[0m\n"
      ]
     },
     "metadata": {},
     "output_type": "display_data"
    },
    {
     "data": {
      "text/html": [
       "<pre style=\"white-space:pre;overflow-x:auto;line-height:normal;font-family:Menlo,'DejaVu Sans Mono',consolas,'Courier New',monospace\">Number of patients: <span style=\"color: #008080; text-decoration-color: #008080; font-weight: bold\">30</span>,<span style=\"color: #008080; text-decoration-color: #008080; font-weight: bold\">805</span>\n",
       "</pre>\n"
      ],
      "text/plain": [
       "Number of patients: \u001b[1;36m30\u001b[0m,\u001b[1;36m805\u001b[0m\n"
      ]
     },
     "metadata": {},
     "output_type": "display_data"
    }
   ],
   "source": [
    "column_names = [\"image_index\", \"finding_labels\", \"follow_up_number\", \"patient_id\", \"patient_age\", \"patient_gender\", \"view_position\", \"original_image_width\", \"original_image_height\", \"original_image_pixel_spacing_x\", \"original_image_pixel_spacing_y\"]  # fmt: skip # nopep8\n",
    "\n",
    "data = pd.read_csv(\n",
    "    \"./data/NIH_Chest_X-ray_Dataset/Data_Entry_2017.csv\",\n",
    "    names=column_names,\n",
    "    header=0,\n",
    "    index_col=False,\n",
    ")\n",
    "display(data.head())\n",
    "print(f\"Rows: {data.shape[0]:,}\\tColumns: {data.shape[1]}\")\n",
    "print(f\"Number of patients: {data['patient_id'].nunique():,}\")"
   ]
  },
  {
   "cell_type": "markdown",
   "metadata": {},
   "source": [
    "###### Visualize data\n"
   ]
  },
  {
   "cell_type": "code",
   "execution_count": 4,
   "metadata": {},
   "outputs": [
    {
     "data": {
      "image/png": "[encoded data removed]",
      "text/plain": [
       "<Figure size 1500x800 with 5 Axes>"
      ]
     },
     "metadata": {},
     "output_type": "display_data"
    }
   ],
   "source": [
    "GOLDEN = (1 + 5**0.5) / 2\n",
    "plt.figure(figsize=(15, 8))\n",
    "\n",
    "plt.subplot(2, 3, 1)\n",
    "sns.countplot(x=data[\"patient_gender\"])\n",
    "plt.gca().set(title=\"Distribution of Patient Gender\", xlabel=None, ylabel=\"Counts\")\n",
    "\n",
    "plt.subplot(2, 3, 2)\n",
    "sns.histplot(data=data[data[\"patient_age\"] < 130], x=\"patient_age\", bins=20, kde=True)\n",
    "plt.gca().set(title=\"Distribution of Patient Age\", xlabel=\"Age\", ylabel=\"Counts\")\n",
    "\n",
    "# Create boolean columns for each pathology type\n",
    "pathology_list = [\"Atelectasis\", \"Cardiomegaly\", \"Consolidation\", \"Edema\", \"Effusion\", \"Emphysema\", \"Fibrosis\", \"Hernia\", \"Infiltration\", \"Mass\", \"Nodule\", \"Pleural_Thickening\", \"Pneumonia\", \"Pneumothorax\"]  # fmt: skip # nopep8\n",
    "for pathology in pathology_list:\n",
    "    data[pathology] = data[\"finding_labels\"].apply(lambda x: 1 if pathology in x else 0)\n",
    "\n",
    "data[\"No_Findings\"] = data[\"finding_labels\"].apply(lambda x: 1 if \"No Finding\" in x else 0)\n",
    "\n",
    "plt.subplot(2, 3, 3)\n",
    "sns.barplot(data.iloc[:, 11:-1].sum(axis=1).value_counts(), orient=\"h\")\n",
    "plt.gca().set(title=\"Number of findings per image\", xlabel=\"Counts\", ylabel=\"Number of findings\")\n",
    "\n",
    "# Sum of values across selected columns and reset index for Seaborn\n",
    "sum_data = data.iloc[:, 11:].sum().reset_index()\n",
    "sum_data.columns = [\"Feature\", \"Total\"]\n",
    "\n",
    "plt.subplot(2, 3, 4)\n",
    "sns.barplot(x=\"Total\", y=\"Feature\", data=sum_data)\n",
    "plt.gca().set(title=\"Disease Classes\", xlabel=\"Counts\", ylabel=None)\n",
    "\n",
    "plt.subplot(2, 3, 5)\n",
    "sns.barplot(x=\"Total\", y=\"Feature\", data=sum_data.loc[sum_data[\"Feature\"] != \"No_Findings\", :])\n",
    "plt.gca().set(title=\"Disease Classes (exluding no disease class)\", xlabel=\"Counts\", ylabel=None)\n",
    "plt.tight_layout()\n",
    "plt.show()"
   ]
  },
  {
   "cell_type": "markdown",
   "metadata": {},
   "source": [
    "###### remove calculated columns\n"
   ]
  },
  {
   "cell_type": "code",
   "execution_count": 5,
   "metadata": {},
   "outputs": [],
   "source": [
    "data = data[column_names]"
   ]
  },
  {
   "cell_type": "markdown",
   "metadata": {},
   "source": [
    "## Using CheXagent\n"
   ]
  },
  {
   "cell_type": "markdown",
   "metadata": {},
   "source": [
    "###### CheXagent: Load Processor and Model\n"
   ]
  },
  {
   "cell_type": "code",
   "execution_count": null,
   "metadata": {},
   "outputs": [],
   "source": [
    "device = \"cuda\"\n",
    "dtype = torch.float16\n",
    "\n",
    "processor = AutoProcessor.from_pretrained(\"StanfordAIMI/CheXagent-8b\", trust_remote_code=True)\n",
    "generation_config = GenerationConfig.from_pretrained(\"StanfordAIMI/CheXagent-8b\")\n",
    "model = AutoModelForCausalLM.from_pretrained(\"StanfordAIMI/CheXagent-8b\", torch_dtype=dtype, trust_remote_code=True).to(\n",
    "    device\n",
    ")"
   ]
  },
  {
   "cell_type": "markdown",
   "metadata": {},
   "source": [
    "###### Apply CheXagent on single image\n"
   ]
  },
  {
   "cell_type": "code",
   "execution_count": null,
   "metadata": {},
   "outputs": [],
   "source": [
    "# subset: cases with exactly one finding label, first case of each label\n",
    "subset = data.loc[(data[\"finding_labels\"].str.count(\"\\\\|\") + 1) == 1, :].sample(1)\n",
    "\n",
    "image_dir = \"./data/NIH_Chest_X-ray_Dataset\"\n",
    "image_path = next(Path(image_dir).rglob(subset[\"image_index\"].values[0])).as_posix()\n",
    "image = Image.open(image_path).convert(\"RGB\")\n",
    "\n",
    "img_name, label = subset[\"image_index\"].values[0], subset[\"finding_labels\"].values[0]\n",
    "plot_title = f\"Label: {label} ({img_name})\"\n",
    "plot_img(image, plot_title)\n",
    "\n",
    "prompt = \"\"\"\n",
    "From the following list of findings, identify which finding is present in the this chest X-ray:\n",
    "'Atelectasis', 'Cardiomegaly', 'Consolidation', 'Edema', 'Effusion', 'Emphysema', 'Fibrosis', 'Hernia', 'Infiltration', 'Mass', 'Nodule', 'Pleural_Thickening', 'Pneumonia', 'Pneumothorax'.\n",
    "If no findings are present, respond by stating 'No Finding'.\n",
    "\"\"\"\n",
    "\n",
    "warnings.filterwarnings(\"ignore\", category=UserWarning)\n",
    "response = generate([image], prompt, processor, model, device, dtype, generation_config)\n",
    "warnings.resetwarnings()\n",
    "\n",
    "print(f\"Correct finding: {subset['finding_labels'].values[0]}\")\n",
    "print(f\"CheXagent response: {response}\")"
   ]
  },
  {
   "cell_type": "markdown",
   "metadata": {},
   "source": [
    "### Prompt engineering for disease classification\n"
   ]
  },
  {
   "cell_type": "markdown",
   "metadata": {},
   "source": [
    "###### Define prompts\n"
   ]
  },
  {
   "cell_type": "code",
   "execution_count": null,
   "metadata": {},
   "outputs": [],
   "source": [
    "# # fmt: off\n",
    "# prompts = {}\n",
    "# prompts[\"1\"] = \"\"\"From the following list of findings, identify which finding is present in the this chest X-ray:\n",
    "# 'Atelectasis', 'Cardiomegaly', 'Consolidation', 'Edema', 'Effusion', 'Emphysema', 'Fibrosis', 'Hernia', 'Infiltration', 'Mass', 'Nodule', 'Pleural_Thickening', 'Pneumonia', 'Pneumothorax'.\n",
    "# If no findings are present, respond by stating 'No Finding'.\"\"\"\n",
    "# prompts[\"2\"] = \"\"\"Which finding is in this chest X-ray: A) 'Atelectasis', B) 'Cardiomegaly', C) 'Consolidation', D) 'Edema', E) 'Effusion', F) 'Emphysema', G) 'Fibrosis', H) 'Hernia', I) 'Infiltration', J) 'Mass', K) 'Nodule', L) 'Pleural_Thickening', M) 'Pneumonia', N) 'Pneumothorax', or O) 'No Finding'.\"\"\"\n",
    "# prompts[\"3\"] = \"\"\"Which single finding is in this chest X-ray: A) 'Atelectasis', B) 'Cardiomegaly', C) 'Consolidation', D) 'Edema', E) 'Effusion', F) 'Emphysema', G) 'Fibrosis', H) 'Hernia', I) 'Infiltration', J) 'Mass', K) 'Nodule', L) 'Pleural_Thickening', M) 'Pneumonia', N) 'Pneumothorax', or O) 'No Finding'.\"\"\"\n",
    "# prompts[\"4\"] = \"\"\"A single finding is present in the given chest X-ray. Identify the finding by selecting one option from the following list: A) 'Atelectasis', B) 'Cardiomegaly', C) 'Consolidation', D) 'Edema', E) 'Effusion', F) 'Emphysema', G) 'Fibrosis', H) 'Hernia', I) 'Infiltration', J) 'Mass', K) 'Nodule', L) 'Pleural_Thickening', M) 'Pneumonia', N) 'Pneumothorax', or O) 'No Finding'. Do not select muliple findings.\"\"\"\n",
    "# prompts[\"5\"] = \"\"\"This chest X-ray has exacltly one disease condition. Identify the correct disease condition from the following options: A) 'Atelectasis', B) 'Cardiomegaly', C) 'Consolidation', D) 'Edema', E) 'Effusion', F) 'Emphysema', G) 'Fibrosis', H) 'Hernia', I) 'Infiltration', J) 'Mass', K) 'Nodule', L) 'Pleural_Thickening', M) 'Pneumonia', N) 'Pneumothorax', or O) 'No Finding'.\"\"\"\n",
    "# prompts[\"6\"] = \"\"\"This chest X-ray has exacltly one disease condition. The correct disease condition is found in the following list: A) 'Atelectasis', B) 'Cardiomegaly', C) 'Consolidation', D) 'Edema', E) 'Effusion', F) 'Emphysema', G) 'Fibrosis', H) 'Hernia', I) 'Infiltration', J) 'Mass', K) 'Nodule', L) 'Pleural_Thickening', M) 'Pneumonia', N) 'Pneumothorax', O) 'No Finding'. What is the correct disease condition?\"\"\"\n",
    "# prompts[\"7\"] = \"\"\"This chest X-ray has exacltly one disease condition. The correct disease condition is found in the following list:\n",
    "#     A) 'Atelectasis'\n",
    "#     B) 'Cardiomegaly'\n",
    "#     C) 'Consolidation'\n",
    "#     D) 'Edema'\n",
    "#     E) 'Effusion'\n",
    "#     F) 'Emphysema'\n",
    "#     G) 'Fibrosis'\n",
    "#     H) 'Hernia'\n",
    "#     I) 'Infiltration'\n",
    "#     J) 'Mass'\n",
    "#     K) 'Nodule'\n",
    "#     L) 'Pleural_Thickening'\n",
    "#     M) 'Pneumonia'\n",
    "#     N) 'Pneumothorax'\n",
    "#     O) 'No Finding'\n",
    "# What is the correct disease condition?\"\"\"\n",
    "# prompts[\"8\"] = \"\"\"This chest X-ray has exacltly one disease condition. The correct disease condition is found in the following list:\n",
    "#     A) Atelectasis\n",
    "#     B) Cardiomegaly\n",
    "#     C) Consolidation\n",
    "#     D) Edema\n",
    "#     E) Effusion\n",
    "#     F) Emphysema\n",
    "#     G) Fibrosis\n",
    "#     H) Hernia\n",
    "#     I) Infiltration\n",
    "#     J) Mass\n",
    "#     K) Nodule\n",
    "#     L) Pleural_Thickening\n",
    "#     M) Pneumonia\n",
    "#     N) Pneumothorax\n",
    "#     O) No Finding\n",
    "# What is the correct disease condition?\"\"\"\n",
    "# prompts[\"9\"] = \"\"\"A single finding is present in the given chest X-ray. Identify the finding by selecting one option from the following list:\n",
    "#     A) 'Atelectasis'\n",
    "#     B) 'Cardiomegaly'\n",
    "#     C) 'Consolidation'\n",
    "#     D) 'Edema'\n",
    "#     E) 'Effusion'\n",
    "#     F) 'Emphysema'\n",
    "#     G) 'Fibrosis'\n",
    "#     H) 'Hernia'\n",
    "#     I) 'Infiltration'\n",
    "#     J) 'Mass'\n",
    "#     K) 'Nodule'\n",
    "#     L) 'Pleural_Thickening'\n",
    "#     M) 'Pneumonia'\n",
    "#     N) 'Pneumothorax'\n",
    "#     O) 'No Finding'\n",
    "# Do not select muliple findings.\"\"\"\n",
    "# prompts[\"10\"] = \"\"\"A single finding is present in the given chest X-ray. Identify the finding by selecting one option from the following list:\n",
    "#     A) Atelectasis\n",
    "#     B) Cardiomegaly\n",
    "#     C) Consolidation\n",
    "#     D) Edema\n",
    "#     E) Effusion\n",
    "#     F) Emphysema\n",
    "#     G) Fibrosis\n",
    "#     H) Hernia\n",
    "#     I) Infiltration\n",
    "#     J) Mass\n",
    "#     K) Nodule\n",
    "#     L) Pleural_Thickening\n",
    "#     M) Pneumonia\n",
    "#     N) Pneumothorax\n",
    "#     O) No Finding\n",
    "# Do not select muliple findings.\"\"\"\n",
    "# # fmt: on"
   ]
  },
  {
   "cell_type": "code",
   "execution_count": 6,
   "metadata": {},
   "outputs": [],
   "source": [
    "# import prompts dictionary\n",
    "with open(\"output/prompts.json\", \"r\") as json_file:\n",
    "    prompts = json.load(json_file)\n",
    "\n",
    "# export prompts dictionary\n",
    "# with open(\"output/prompts.json\", \"w\") as json_file:\n",
    "# json.dump(prompts, json_file, indent=4)"
   ]
  },
  {
   "cell_type": "markdown",
   "metadata": {},
   "source": [
    "#### Prepare input data for CheXagent\n"
   ]
  },
  {
   "cell_type": "markdown",
   "metadata": {},
   "source": [
    "###### Load previous Q and A results\n"
   ]
  },
  {
   "cell_type": "code",
   "execution_count": 7,
   "metadata": {},
   "outputs": [
    {
     "data": {
      "text/html": [
       "<div>\n",
       "<style scoped>\n",
       "    .dataframe tbody tr th:only-of-type {\n",
       "        vertical-align: middle;\n",
       "    }\n",
       "\n",
       "    .dataframe tbody tr th {\n",
       "        vertical-align: top;\n",
       "    }\n",
       "\n",
       "    .dataframe thead th {\n",
       "        text-align: right;\n",
       "    }\n",
       "</style>\n",
       "<table border=\"1\" class=\"dataframe\">\n",
       "  <thead>\n",
       "    <tr style=\"text-align: right;\">\n",
       "      <th></th>\n",
       "      <th>image_index</th>\n",
       "      <th>finding_labels</th>\n",
       "      <th>prompt_key</th>\n",
       "      <th>response</th>\n",
       "    </tr>\n",
       "  </thead>\n",
       "  <tbody>\n",
       "    <tr>\n",
       "      <th>0</th>\n",
       "      <td>00000001_000.png</td>\n",
       "      <td>Cardiomegaly</td>\n",
       "      <td>9</td>\n",
       "      <td>B) 'Cardiomegaly'</td>\n",
       "    </tr>\n",
       "    <tr>\n",
       "      <th>1</th>\n",
       "      <td>00000001_000.png</td>\n",
       "      <td>Cardiomegaly</td>\n",
       "      <td>10</td>\n",
       "      <td>B) Cardiomegaly</td>\n",
       "    </tr>\n",
       "    <tr>\n",
       "      <th>2</th>\n",
       "      <td>00000001_000.png</td>\n",
       "      <td>Cardiomegaly</td>\n",
       "      <td>4</td>\n",
       "      <td>B) 'Cardiomegaly'</td>\n",
       "    </tr>\n",
       "    <tr>\n",
       "      <th>3</th>\n",
       "      <td>00000001_000.png</td>\n",
       "      <td>Cardiomegaly</td>\n",
       "      <td>1</td>\n",
       "      <td>No Finding</td>\n",
       "    </tr>\n",
       "    <tr>\n",
       "      <th>4</th>\n",
       "      <td>00000001_000.png</td>\n",
       "      <td>Cardiomegaly</td>\n",
       "      <td>5</td>\n",
       "      <td>A) 'Atelectasis', B) 'Cardiomegaly', D) 'Edema...</td>\n",
       "    </tr>\n",
       "  </tbody>\n",
       "</table>\n",
       "</div>"
      ],
      "text/plain": [
       "        image_index finding_labels prompt_key  \\\n",
       "0  00000001_000.png   Cardiomegaly          9   \n",
       "1  00000001_000.png   Cardiomegaly         10   \n",
       "2  00000001_000.png   Cardiomegaly          4   \n",
       "3  00000001_000.png   Cardiomegaly          1   \n",
       "4  00000001_000.png   Cardiomegaly          5   \n",
       "\n",
       "                                            response  \n",
       "0                                  B) 'Cardiomegaly'  \n",
       "1                                    B) Cardiomegaly  \n",
       "2                                  B) 'Cardiomegaly'  \n",
       "3                                         No Finding  \n",
       "4  A) 'Atelectasis', B) 'Cardiomegaly', D) 'Edema...  "
      ]
     },
     "metadata": {},
     "output_type": "display_data"
    },
    {
     "data": {
      "text/html": [
       "<pre style=\"white-space:pre;overflow-x:auto;line-height:normal;font-family:Menlo,'DejaVu Sans Mono',consolas,'Courier New',monospace\">nRows: <span style=\"color: #008080; text-decoration-color: #008080; font-weight: bold\">48</span>,<span style=\"color: #008080; text-decoration-color: #008080; font-weight: bold\">936</span>   nColumns: <span style=\"color: #008080; text-decoration-color: #008080; font-weight: bold\">4</span>\n",
       "</pre>\n"
      ],
      "text/plain": [
       "nRows: \u001b[1;36m48\u001b[0m,\u001b[1;36m936\u001b[0m   nColumns: \u001b[1;36m4\u001b[0m\n"
      ]
     },
     "metadata": {},
     "output_type": "display_data"
    }
   ],
   "source": [
    "results_prev = pd.read_csv(\n",
    "    \"output/disease_classification_QA.csv\",\n",
    "    usecols=[\"image_index\", \"finding_labels\", \"prompt_key\", \"response\"],\n",
    "    dtype=str,\n",
    ")\n",
    "display(results_prev.head())\n",
    "print(f\"nRows: {results_prev.shape[0]:,}\\tnColumns: {results_prev.shape[1]}\")"
   ]
  },
  {
   "cell_type": "markdown",
   "metadata": {},
   "source": [
    "###### Get images in NIH dataset that have not been supplied to CheXagent\n"
   ]
  },
  {
   "cell_type": "code",
   "execution_count": 8,
   "metadata": {},
   "outputs": [
    {
     "data": {
      "text/html": [
       "<div>\n",
       "<style scoped>\n",
       "    .dataframe tbody tr th:only-of-type {\n",
       "        vertical-align: middle;\n",
       "    }\n",
       "\n",
       "    .dataframe tbody tr th {\n",
       "        vertical-align: top;\n",
       "    }\n",
       "\n",
       "    .dataframe thead th {\n",
       "        text-align: right;\n",
       "    }\n",
       "</style>\n",
       "<table border=\"1\" class=\"dataframe\">\n",
       "  <thead>\n",
       "    <tr style=\"text-align: right;\">\n",
       "      <th></th>\n",
       "      <th>image_index</th>\n",
       "      <th>finding_labels</th>\n",
       "      <th>follow_up_number</th>\n",
       "      <th>patient_id</th>\n",
       "      <th>patient_age</th>\n",
       "      <th>patient_gender</th>\n",
       "      <th>view_position</th>\n",
       "      <th>original_image_width</th>\n",
       "      <th>original_image_height</th>\n",
       "      <th>original_image_pixel_spacing_x</th>\n",
       "      <th>original_image_pixel_spacing_y</th>\n",
       "    </tr>\n",
       "  </thead>\n",
       "  <tbody>\n",
       "    <tr>\n",
       "      <th>1</th>\n",
       "      <td>00000001_001.png</td>\n",
       "      <td>Cardiomegaly|Emphysema</td>\n",
       "      <td>1</td>\n",
       "      <td>1</td>\n",
       "      <td>58</td>\n",
       "      <td>M</td>\n",
       "      <td>PA</td>\n",
       "      <td>2894</td>\n",
       "      <td>2729</td>\n",
       "      <td>0.143</td>\n",
       "      <td>0.143</td>\n",
       "    </tr>\n",
       "    <tr>\n",
       "      <th>2</th>\n",
       "      <td>00000001_002.png</td>\n",
       "      <td>Cardiomegaly|Effusion</td>\n",
       "      <td>2</td>\n",
       "      <td>1</td>\n",
       "      <td>58</td>\n",
       "      <td>M</td>\n",
       "      <td>PA</td>\n",
       "      <td>2500</td>\n",
       "      <td>2048</td>\n",
       "      <td>0.168</td>\n",
       "      <td>0.168</td>\n",
       "    </tr>\n",
       "    <tr>\n",
       "      <th>7</th>\n",
       "      <td>00000003_003.png</td>\n",
       "      <td>Hernia|Infiltration</td>\n",
       "      <td>3</td>\n",
       "      <td>3</td>\n",
       "      <td>76</td>\n",
       "      <td>F</td>\n",
       "      <td>PA</td>\n",
       "      <td>2698</td>\n",
       "      <td>2991</td>\n",
       "      <td>0.143</td>\n",
       "      <td>0.143</td>\n",
       "    </tr>\n",
       "    <tr>\n",
       "      <th>12</th>\n",
       "      <td>00000004_000.png</td>\n",
       "      <td>Mass|Nodule</td>\n",
       "      <td>0</td>\n",
       "      <td>4</td>\n",
       "      <td>82</td>\n",
       "      <td>M</td>\n",
       "      <td>AP</td>\n",
       "      <td>2500</td>\n",
       "      <td>2048</td>\n",
       "      <td>0.168</td>\n",
       "      <td>0.168</td>\n",
       "    </tr>\n",
       "    <tr>\n",
       "      <th>20</th>\n",
       "      <td>00000005_007.png</td>\n",
       "      <td>Effusion|Infiltration</td>\n",
       "      <td>7</td>\n",
       "      <td>5</td>\n",
       "      <td>70</td>\n",
       "      <td>F</td>\n",
       "      <td>PA</td>\n",
       "      <td>2566</td>\n",
       "      <td>2681</td>\n",
       "      <td>0.143</td>\n",
       "      <td>0.143</td>\n",
       "    </tr>\n",
       "  </tbody>\n",
       "</table>\n",
       "</div>"
      ],
      "text/plain": [
       "         image_index          finding_labels  follow_up_number  patient_id  \\\n",
       "1   00000001_001.png  Cardiomegaly|Emphysema                 1           1   \n",
       "2   00000001_002.png   Cardiomegaly|Effusion                 2           1   \n",
       "7   00000003_003.png     Hernia|Infiltration                 3           3   \n",
       "12  00000004_000.png             Mass|Nodule                 0           4   \n",
       "20  00000005_007.png   Effusion|Infiltration                 7           5   \n",
       "\n",
       "    patient_age patient_gender view_position  original_image_width  \\\n",
       "1            58              M            PA                  2894   \n",
       "2            58              M            PA                  2500   \n",
       "7            76              F            PA                  2698   \n",
       "12           82              M            AP                  2500   \n",
       "20           70              F            PA                  2566   \n",
       "\n",
       "    original_image_height  original_image_pixel_spacing_x  \\\n",
       "1                    2729                           0.143   \n",
       "2                    2048                           0.168   \n",
       "7                    2991                           0.143   \n",
       "12                   2048                           0.168   \n",
       "20                   2681                           0.143   \n",
       "\n",
       "    original_image_pixel_spacing_y  \n",
       "1                            0.143  \n",
       "2                            0.168  \n",
       "7                            0.143  \n",
       "12                           0.168  \n",
       "20                           0.143  "
      ]
     },
     "metadata": {},
     "output_type": "display_data"
    },
    {
     "data": {
      "text/html": [
       "<pre style=\"white-space:pre;overflow-x:auto;line-height:normal;font-family:Menlo,'DejaVu Sans Mono',consolas,'Courier New',monospace\">nRows: <span style=\"color: #008080; text-decoration-color: #008080; font-weight: bold\">107</span>,<span style=\"color: #008080; text-decoration-color: #008080; font-weight: bold\">227</span>  nColumns: <span style=\"color: #008080; text-decoration-color: #008080; font-weight: bold\">11</span>\n",
       "</pre>\n"
      ],
      "text/plain": [
       "nRows: \u001b[1;36m107\u001b[0m,\u001b[1;36m227\u001b[0m  nColumns: \u001b[1;36m11\u001b[0m\n"
      ]
     },
     "metadata": {},
     "output_type": "display_data"
    }
   ],
   "source": [
    "# images with missing prompt cases\n",
    "images_incomplete = (\n",
    "    results_prev.groupby([\"image_index\"], as_index=True, sort=False)[\"prompt_key\"]\n",
    "    .apply(lambda x: x.nunique())\n",
    "    .pipe(lambda x: x[x != len(prompts)])\n",
    "    .index.to_list()\n",
    ")\n",
    "\n",
    "# images that have been analyed\n",
    "images_analyzed = set(results_prev[\"image_index\"].values) - set(images_incomplete)\n",
    "\n",
    "# images to input into CheXagent\n",
    "images_not_analyzed = set(data[\"image_index\"].values) - images_analyzed\n",
    "subset = data[data[\"image_index\"].isin(images_not_analyzed)].copy()\n",
    "display(subset.head())\n",
    "print(f\"nRows: {subset.shape[0]:,}\\tnColumns: {subset.shape[1]}\")"
   ]
  },
  {
   "cell_type": "markdown",
   "metadata": {},
   "source": [
    "#### Apply CheXagent on NIH dataset using `prompts`\n"
   ]
  },
  {
   "cell_type": "code",
   "execution_count": null,
   "metadata": {},
   "outputs": [],
   "source": [
    "now = datetime.now()\n",
    "datetime_str = now.strftime(\"%Y%m%d_%H%M%S\")\n",
    "csv_file_path = f\"output/disease_classification_QA_{datetime_str}.csv\"\n",
    "\n",
    "warnings.filterwarnings(\"ignore\", category=UserWarning)\n",
    "\n",
    "with open(csv_file_path, mode=\"w\", newline=\"\") as file:\n",
    "    writer = csv.writer(file)\n",
    "    writer.writerow([\"image_index\", \"finding_labels\", \"prompt\", \"prompt_key\", \"response\"])\n",
    "\n",
    "    for _, row in tqdm(subset.iterrows(), total=subset.shape[0], desc=\"Processing images\"):\n",
    "        images = [Image.open(row[\"image_path\"]).convert(\"RGB\")]\n",
    "        img_name, label = row[\"image_index\"], row[\"finding_labels\"]\n",
    "        title = f\"Label: {label} ({img_name})\"\n",
    "        for prompt_key, prompt in prompts.items():\n",
    "            response = generate(images, prompt, processor, model, device, dtype, generation_config)\n",
    "            row_data = [img_name, label, prompt, prompt_key, response]\n",
    "            writer.writerow(row_data)\n",
    "\n",
    "warnings.resetwarnings()\n",
    "\n",
    "# ran for 1422m 24.9s\n",
    "# tqdm bar: 5%    4891/91324    [23:42:22<582:23:29, 24.26s/it]"
   ]
  },
  {
   "cell_type": "markdown",
   "metadata": {},
   "source": [
    "## Analyze prompts and responses\n"
   ]
  },
  {
   "cell_type": "markdown",
   "metadata": {},
   "source": [
    "###### import results\n"
   ]
  },
  {
   "cell_type": "code",
   "execution_count": null,
   "metadata": {},
   "outputs": [],
   "source": [
    "results = pd.read_csv(\n",
    "    \"output/disease_classification_QA.csv\",\n",
    "    usecols=[\"image_index\", \"finding_labels\", \"prompt_key\", \"response\"],\n",
    "    dtype=str,\n",
    ")\n",
    "\n",
    "# make \"prompt_key\" categorical\n",
    "results[\"prompt_key\"] = pd.Categorical(results[\"prompt_key\"], ordered=True, categories=[str(x) for x in range(1, 11)])"
   ]
  },
  {
   "cell_type": "markdown",
   "metadata": {},
   "source": [
    "###### analyze response strings\n"
   ]
  },
  {
   "cell_type": "code",
   "execution_count": null,
   "metadata": {},
   "outputs": [],
   "source": [
    "results[\"response_num_findings\"] = results[\"response\"].transform(get_num_findings)\n",
    "results[\"label_in_response\"] = results.apply(is_label_in_response, axis=1)\n",
    "results[\"true_positive\"] = results.apply(is_true_positive, axis=1)\n",
    "\n",
    "display(results.head())\n",
    "print(f\"nRows: {results.shape[0]:,}\\tnCols: {results.shape[1]}\")"
   ]
  },
  {
   "cell_type": "markdown",
   "metadata": {},
   "source": [
    "#### Plots\n"
   ]
  },
  {
   "cell_type": "code",
   "execution_count": null,
   "metadata": {},
   "outputs": [],
   "source": [
    "plotdf = results\n",
    "plotdf[\"response_num_findings_grouped\"] = plotdf[\"response_num_findings\"].apply(lambda x: 15 if x >= 15 else x)\n",
    "\n",
    "g = sns.displot(\n",
    "    data=plotdf,\n",
    "    # data=plotdf[plotdf[\"finding_labels\"] != \"No Finding\"],\n",
    "    x=\"response_num_findings_grouped\",\n",
    "    col=\"prompt_key\",\n",
    "    col_wrap=5,\n",
    "    height=3,\n",
    "    hue=\"finding_labels\",\n",
    "    multiple=\"stack\",\n",
    "    palette=\"tab20\",\n",
    ")\n",
    "\n",
    "g.set_axis_labels(x_var=\"Resp. number of findings\")\n",
    "g.legend.set_title(\"Finding\")\n",
    "g.tight_layout()\n",
    "plt.show()"
   ]
  },
  {
   "cell_type": "code",
   "execution_count": null,
   "metadata": {},
   "outputs": [],
   "source": [
    "plotdf = results\n",
    "plotdf[\"response_num_findings_grouped\"] = plotdf[\"response_num_findings\"].apply(lambda x: 15 if x >= 15 else x)\n",
    "\n",
    "g = sns.displot(\n",
    "    data=plotdf,\n",
    "    # data=plotdf[plotdf[\"finding_labels\"] != \"No Finding\"],\n",
    "    x=\"response_num_findings_grouped\",\n",
    "    hue=\"label_in_response\",\n",
    "    multiple=\"stack\",\n",
    "    col=\"prompt_key\",\n",
    "    col_wrap=5,\n",
    "    height=3,\n",
    ")\n",
    "\n",
    "g.set_axis_labels(x_var=\"No. of findings in response\")\n",
    "sns.move_legend(g, \"right\", title=\"Label in response\")\n",
    "g.tight_layout()\n",
    "plt.show()"
   ]
  },
  {
   "cell_type": "code",
   "execution_count": null,
   "metadata": {},
   "outputs": [],
   "source": [
    "plotdf = results\n",
    "plotdf[\"response_num_findings_grouped\"] = plotdf[\"response_num_findings\"].apply(lambda x: 15 if x >= 15 else x)\n",
    "\n",
    "g = sns.displot(\n",
    "    data=plotdf,\n",
    "    # data=plotdf[plotdf[\"finding_labels\"] != \"No Finding\"],\n",
    "    y=\"prompt_key\",\n",
    "    hue=\"response_num_findings_grouped\",\n",
    "    multiple=\"stack\",\n",
    "    palette=\"tab20\",\n",
    "    aspect=3.2,\n",
    ")\n",
    "\n",
    "g.set_axis_labels(x_var=\"Count\", y_var=\"Prompt Key\")\n",
    "sns.move_legend(g, \"lower center\", bbox_to_anchor=(0.44, 1), ncol=16, title=\"No. findings in response\")\n",
    "g.tight_layout()\n",
    "plt.show()"
   ]
  },
  {
   "cell_type": "code",
   "execution_count": null,
   "metadata": {},
   "outputs": [],
   "source": [
    "plotdf = results\n",
    "plotdf[\"response_num_findings_grouped\"] = plotdf[\"response_num_findings\"].apply(lambda x: 15 if x >= 15 else x)\n",
    "\n",
    "g = sns.displot(\n",
    "    data=plotdf,\n",
    "    # data=plotdf[plotdf[\"finding_labels\"] != \"No Finding\"],\n",
    "    y=\"prompt_key\",\n",
    "    hue=\"response_num_findings_grouped\",\n",
    "    multiple=\"stack\",\n",
    "    palette=\"tab20\",\n",
    "    col=\"finding_labels\",\n",
    "    col_wrap=5,\n",
    "    facet_kws={\"sharex\": False},\n",
    "    height=3.5,\n",
    ")\n",
    "\n",
    "g.set_axis_labels(x_var=\"Count\", y_var=\"Prompt Key\")\n",
    "sns.move_legend(g, \"center left\", bbox_to_anchor=(0.85, 0.5), title=\"No. findings\\nin response\")\n",
    "g.tight_layout()\n",
    "plt.show()"
   ]
  },
  {
   "cell_type": "code",
   "execution_count": null,
   "metadata": {},
   "outputs": [],
   "source": [
    "sns.set_theme(context=\"notebook\", style=\"darkgrid\", font_scale=1.10)\n",
    "\n",
    "plt.figure(figsize=(GOLDEN * 6, 6))\n",
    "sns.histplot(\n",
    "    data=results,\n",
    "    y=\"prompt_key\",\n",
    "    hue=\"label_in_response\",\n",
    "    multiple=\"stack\",\n",
    ")\n",
    "sns.move_legend(plt.gca(), \"center left\", bbox_to_anchor=(1.05, 0.5), title=\"Label in response\")\n",
    "plt.gca().set(title=\"Is correct label in response?\", ylabel=\"Prompt Key\")\n",
    "plt.tight_layout()\n",
    "plt.show()"
   ]
  },
  {
   "cell_type": "code",
   "execution_count": null,
   "metadata": {},
   "outputs": [],
   "source": [
    "sns.set_theme(context=\"notebook\", style=\"darkgrid\", font_scale=1.10)\n",
    "\n",
    "plt.figure(figsize=(GOLDEN * 6, 6))\n",
    "sns.histplot(\n",
    "    data=results,\n",
    "    y=\"prompt_key\",\n",
    "    hue=\"true_positive\",\n",
    "    multiple=\"stack\",\n",
    ")\n",
    "sns.move_legend(plt.gca(), \"center left\", bbox_to_anchor=(1.05, 0.5), title=\"True Positive\")\n",
    "plt.gca().set(title=\"True positive?\", ylabel=\"Prompt Key\")\n",
    "plt.tight_layout()\n",
    "plt.show()"
   ]
  },
  {
   "cell_type": "code",
   "execution_count": null,
   "metadata": {},
   "outputs": [],
   "source": [
    "sns.set_theme(context=\"notebook\", style=\"darkgrid\", font_scale=1.10)\n",
    "\n",
    "plt.figure(figsize=(GOLDEN * 6, 6))\n",
    "sns.histplot(\n",
    "    data=results[results[\"response_num_findings\"] == 1],\n",
    "    y=\"prompt_key\",\n",
    "    hue=\"label_in_response\",\n",
    "    multiple=\"stack\",\n",
    ")\n",
    "sns.move_legend(plt.gca(), \"center left\", bbox_to_anchor=(1.05, 0.5), title=\"Label in reponse\")\n",
    "plt.gca().set(title=\"Classification Accuracy of single-option responses\", ylabel=\"Prompt Key\")\n",
    "plt.tight_layout()\n",
    "plt.show()"
   ]
  },
  {
   "cell_type": "code",
   "execution_count": null,
   "metadata": {},
   "outputs": [],
   "source": [
    "sns.set_theme(context=\"notebook\", style=\"darkgrid\", font_scale=1.10)\n",
    "\n",
    "plt.figure(figsize=(GOLDEN * 6, 6))\n",
    "sns.histplot(\n",
    "    # data=results,\n",
    "    data=results[results[\"response_num_findings\"] == 1],\n",
    "    y=\"finding_labels\",\n",
    "    hue=\"label_in_response\",\n",
    "    multiple=\"stack\",\n",
    ")\n",
    "sns.move_legend(plt.gca(), \"center left\", bbox_to_anchor=(1.05, 0.5), title=\"Label in response\")\n",
    "plt.gca().set(title=\"Classification Accuracy of single-option responses\", ylabel=\"Finding Label\")\n",
    "plt.tight_layout()\n",
    "plt.show()"
   ]
  },
  {
   "cell_type": "code",
   "execution_count": null,
   "metadata": {},
   "outputs": [],
   "source": [
    "sns.set_theme(context=\"notebook\", style=\"darkgrid\", font_scale=1.10)\n",
    "\n",
    "g = sns.displot(\n",
    "    data=results[results[\"response_num_findings\"] == 1],\n",
    "    x=\"prompt_key\",\n",
    "    hue=\"label_in_response\",\n",
    "    col=\"finding_labels\",\n",
    "    col_wrap=5,\n",
    "    multiple=\"stack\",\n",
    "    height=3.5,\n",
    "    facet_kws={\"sharey\": False},\n",
    ")\n",
    "g.set_axis_labels(x_var=\"Prompt Key\")\n",
    "sns.move_legend(g, \"right\", title=\"Label in response\")\n",
    "g.tight_layout()\n",
    "plt.show()"
   ]
  },
  {
   "cell_type": "code",
   "execution_count": null,
   "metadata": {},
   "outputs": [],
   "source": [
    "sns.set_theme(context=\"notebook\", style=\"darkgrid\", font_scale=1.10)\n",
    "\n",
    "g = sns.displot(\n",
    "    data=results[results[\"response_num_findings\"] <= 5],\n",
    "    # data=results[results[\"response_num_findings\"] == 1],\n",
    "    x=\"prompt_key\",\n",
    "    hue=\"true_positive\",\n",
    "    col=\"finding_labels\",\n",
    "    col_wrap=5,\n",
    "    multiple=\"stack\",\n",
    "    height=3.5,\n",
    "    facet_kws={\"sharey\": False},\n",
    ")\n",
    "g.set_axis_labels(x_var=\"Prompt Key\")\n",
    "sns.move_legend(g, \"right\", title=\"True positive\")\n",
    "g.tight_layout()\n",
    "plt.show()"
   ]
  },
  {
   "cell_type": "code",
   "execution_count": null,
   "metadata": {},
   "outputs": [],
   "source": [
    "sns.set_theme(style=\"white\")\n",
    "\n",
    "plotdf = (\n",
    "    results.groupby([\"prompt_key\", \"response_num_findings\"], observed=True)\n",
    "    .size()\n",
    "    .reset_index()\n",
    "    .pivot(columns=\"prompt_key\", index=\"response_num_findings\", values=0)\n",
    "    .iloc[::-1]\n",
    ")\n",
    "\n",
    "plt.figure(figsize=(GOLDEN * 6, 6))\n",
    "ax = sns.heatmap(plotdf, annot=True, fmt=\".0f\")\n",
    "ax.set(title=\"Number of findings in response by prompt\", xlabel=\"Prompt Key\", ylabel=\"Number of findings in response\")\n",
    "plt.yticks(rotation=0)\n",
    "plt.tight_layout()\n",
    "plt.show()"
   ]
  },
  {
   "cell_type": "code",
   "execution_count": null,
   "metadata": {},
   "outputs": [],
   "source": [
    "sns.set_theme(style=\"white\", font_scale=1)\n",
    "\n",
    "plotdf = (\n",
    "    results.groupby([\"finding_labels\", \"response_num_findings\"], observed=True)\n",
    "    .size()\n",
    "    .reset_index()\n",
    "    .pivot(columns=\"finding_labels\", index=\"response_num_findings\", values=0)\n",
    "    .transform(lambda x: (x / x.sum()) * 100)\n",
    "    .iloc[::-1]\n",
    ")\n",
    "\n",
    "plt.figure(figsize=(GOLDEN * 8, 8))\n",
    "ax = sns.heatmap(plotdf, annot=True, fmt=\".1f\")\n",
    "ax.set(title=\"Number of findings in response by disease\\n(values are percentages, columns sum to 100%)\",\n",
    "       xlabel=\"Disease\", ylabel=\"Number of findings in response\")\n",
    "plt.yticks(rotation=0)\n",
    "plt.tight_layout()\n",
    "plt.show()"
   ]
  }
 ],
 "metadata": {
  "kernelspec": {
   "display_name": "Python 3",
   "language": "python",
   "name": "python3"
  },
  "language_info": {
   "codemirror_mode": {
    "name": "ipython",
    "version": 3
   },
   "file_extension": ".py",
   "mimetype": "text/x-python",
   "name": "python",
   "nbconvert_exporter": "python",
   "pygments_lexer": "ipython3",
   "version": "3.11.8"
  }
 },
 "nbformat": 4,
 "nbformat_minor": 2
}
